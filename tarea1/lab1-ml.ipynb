{
 "metadata": {
  "name": "",
  "signature": "sha256:d48786ecac2de6b5843ffbf488bb38678a887b1dd9e22e6c72cd4b2a8875ef0e"
 },
 "nbformat": 3,
 "nbformat_minor": 0,
 "worksheets": [
  {
   "cells": [
    {
     "cell_type": "markdown",
     "metadata": {},
     "source": [
      "## Parte 1"
     ]
    },
    {
     "cell_type": "code",
     "collapsed": false,
     "input": [
      "#notebook settings\n",
      "%matplotlib inline\n",
      "\n",
      "#import some useful libraries\n",
      "import numpy as np\n",
      "import matplotlib.pyplot as plt\n",
      "\n",
      "#setting some paths\n",
      "path1='./cereales/'\n",
      "path2='./credit/'"
     ],
     "language": "python",
     "metadata": {},
     "outputs": [],
     "prompt_number": 5
    },
    {
     "cell_type": "code",
     "collapsed": false,
     "input": [
      "#overall cost function\n",
      "def J(M, beta):\n",
      "    X = M[:,:-1]\n",
      "    y = M[:,-1]\n",
      "    h = np.dot(X,beta)\n",
      "    return np.sum((h-y)**2)\n",
      "\n",
      "#Implementation of batch gradient descent (vectorized!)\n",
      "def gd_batch(M, alpha=0.5, n_iter=50, mode=None):\n",
      "    X = M[:,:-1]\n",
      "    y = M[:,-1]\n",
      "    m,n = X.shape\n",
      "    beta = np.zeros(n)\n",
      "    for i in range(n_iter):\n",
      "        if mode=='verbose':\n",
      "            print \"Iter:\",i,\" Cost:\",J(M, beta)\n",
      "        h = np.dot(X,beta)\n",
      "        dJ = np.dot(X.transpose(),h-y)\n",
      "        beta -= (alpha/m)*dJ\n",
      "    return beta\n",
      "\n",
      "#Implementation of online gradient descent\n",
      "def gd_online(M, alpha=0.5, n_iter=50):\n",
      "    X = M[:,:-1]\n",
      "    y = M[:,-1]\n",
      "    m,n = X.shape\n",
      "    beta = np.zeros(n)\n",
      "    for i in range(n_iter):\n",
      "        for i in range(m):\n",
      "            beta -= (alpha/m)*(np.dot(X[m],beta)-y[m])*X[m]\n",
      "    return beta\n",
      "\n",
      "#Implementation of Newton Rhapson approach\n",
      "def nr(J):\n",
      "    return\n",
      "\n",
      "def standarize():\n",
      "    return\n",
      "\n",
      "def normalize():\n",
      "    return "
     ],
     "language": "python",
     "metadata": {},
     "outputs": [],
     "prompt_number": 75
    },
    {
     "cell_type": "code",
     "collapsed": false,
     "input": [
      "A = np.arange(9).reshape((3,3))\n",
      "a = np.ones((3,1))"
     ],
     "language": "python",
     "metadata": {},
     "outputs": [],
     "prompt_number": 26
    },
    {
     "cell_type": "code",
     "collapsed": false,
     "input": [
      "np.concatenate((a,A),axis=1)"
     ],
     "language": "python",
     "metadata": {},
     "outputs": [
      {
       "metadata": {},
       "output_type": "pyout",
       "prompt_number": 27,
       "text": [
        "array([[ 1.,  0.,  1.,  2.],\n",
        "       [ 1.,  3.,  4.,  5.],\n",
        "       [ 1.,  6.,  7.,  8.]])"
       ]
      }
     ],
     "prompt_number": 27
    },
    {
     "cell_type": "code",
     "collapsed": false,
     "input": [
      "#working array\n",
      "wa = np.load(path1+'cereales-tr-0.npy')\n",
      "gd_batch(wa, alpha=0.05, n_iter=50, mode='verbose')"
     ],
     "language": "python",
     "metadata": {},
     "outputs": [
      {
       "output_type": "stream",
       "stream": "stdout",
       "text": [
        "Iter: 0  Cost: 149499.607185\n",
        "Iter: 1  Cost: 774114304266.0\n",
        "Iter: 2  Cost: 5.19054896035e+18\n",
        "Iter: 3  Cost: 3.48279486768e+25\n",
        "Iter: 4  Cost: 2.33693111145e+32\n",
        "Iter: 5  Cost: 1.56806464825e+39\n",
        "Iter: 6  Cost: 1.05216055859e+46\n",
        "Iter: 7  Cost: 7.05992474415e+52\n",
        "Iter: 8  Cost: 4.73716078656e+59\n",
        "Iter: 9  Cost: 3.17860219917e+66\n",
        "Iter: 10  Cost: 2.13282014181e+73\n",
        "Iter: 11  Cost: 1.4311075977e+80\n",
        "Iter: 12  Cost: 9.6026332275e+86\n",
        "Iter: 13  Cost: 6.44330063302e+93\n",
        "Iter: 14  Cost: 4.32341026298e+100\n",
        "Iter: 15  Cost: 2.90097845292e+107\n",
        "Iter: 16  Cost: 1.94653652381e+114\n",
        "Iter: 17  Cost: 1.30611257547e+121\n",
        "Iter: 18  Cost: 8.76392525355e+127\n",
        "Iter: 19  Cost: 5.88053336997e+134\n",
        "Iter: 20  Cost: 3.94579731283e+141\n",
        "Iter: 21  Cost: 2.64760276907e+148\n",
        "Iter: 22  Cost: 1.77652318836e+155\n",
        "Iter: 23  Cost: 1.19203480055e+162\n",
        "Iter: 24  Cost: 7.99847125576e+168\n",
        "Iter: 25  Cost: 5.36691901944e+175\n",
        "Iter: 26  Cost: 3.60116562781e+182\n",
        "Iter: 27  Cost: 2.41635728654e+189\n",
        "Iter: 28  Cost: 1.62135906528e+196\n",
        "Iter: 29  Cost: 1.08792074467e+203\n",
        "Iter: 30  Cost: 7.29987312515e+209\n",
        "Iter: 31  Cost: 4.89816449445e+216\n",
        "Iter: 32  Cost: 3.28663457617e+223\n",
        "Iter: 33  Cost: 2.2053091213e+230\n",
        "Iter: 34  Cost: 1.47974720273e+237\n",
        "Iter: 35  Cost: 9.9290016209e+243\n",
        "Iter: 36  Cost: 6.66229157289e+250\n",
        "Iter: 37  Cost: 4.4703516725e+257\n",
        "Iter: 38  Cost: 2.99957512474e+264\n",
        "Iter: 39  Cost: 2.01269421024e+271\n",
        "Iter: 40  Cost: 1.35050392654e+278\n",
        "Iter: 41  Cost: 9.06178815605e+284\n",
        "Iter: 42  Cost: 6.08039732216e+291\n",
        "Iter: 43  Cost: 4.0799046456e+298\n",
        "Iter: 44  Cost: 2.73758786396e+305\n",
        "Iter: 45  Cost: inf\n",
        "Iter: 46  Cost: inf\n",
        "Iter: 47  Cost: inf\n",
        "Iter: 48  Cost: inf\n",
        "Iter: 49  Cost: inf\n"
       ]
      },
      {
       "metadata": {},
       "output_type": "pyout",
       "prompt_number": 76,
       "text": [
        "array([ -3.80425300e+169,  -9.15451934e+167,  -4.28879034e+167,\n",
        "        -5.86093660e+169,  -8.73199451e+167,  -5.07840273e+168,\n",
        "        -2.71543142e+168,  -3.72338259e+169,  -1.11082220e+169,\n",
        "        -7.38634032e+167,  -3.53275812e+167,  -2.85951307e+167])"
       ]
      }
     ],
     "prompt_number": 76
    },
    {
     "cell_type": "code",
     "collapsed": false,
     "input": [],
     "language": "python",
     "metadata": {},
     "outputs": []
    }
   ],
   "metadata": {}
  }
 ]
}