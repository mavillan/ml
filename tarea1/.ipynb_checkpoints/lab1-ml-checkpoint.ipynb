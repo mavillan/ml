{
 "metadata": {
  "name": ""
 },
 "nbformat": 3,
 "nbformat_minor": 0,
 "worksheets": [
  {
   "cells": [
    {
     "cell_type": "markdown",
     "metadata": {},
     "source": [
      "## Parte 1"
     ]
    },
    {
     "cell_type": "code",
     "collapsed": false,
     "input": [
      "#import some useful libraries\n",
      "import numpy as np\n",
      "\n",
      "#setting some paths\n",
      "path='./cereales/'"
     ],
     "language": "python",
     "metadata": {},
     "outputs": [],
     "prompt_number": 2
    },
    {
     "cell_type": "code",
     "collapsed": false,
     "input": [
      "#overall cost function\n",
      "def J(beta, M):\n",
      "    X = M[:,:-1]\n",
      "    y = M[:,-1]\n",
      "    h = np.dot(X,beta)\n",
      "    return np.sum((h-y)**2)\n",
      "\n",
      "#Implementation of batch gradient descent (vectorized!)\n",
      "\n",
      "def gd_batch(J, alpha=0.5, n_iter=50):\n",
      "    X = M[:,:-1]\n",
      "    y = M[:,-1]\n",
      "    m,n = X.shape\n",
      "    beta = np.random.random(n)\n",
      "    for i in range(n_iter):\n",
      "        h = np.dot(X,beta)\n",
      "        dJ = np.dot(X.transpose(),h-y)\n",
      "        beta -= (alpha/m)*dJ\n",
      "    return beta\n",
      "\n",
      "#Implementation of online gradient descent\n",
      "def gd_online(J, alpha):\n",
      "    return\n",
      "\n",
      "#Implementation of Newton Rhapson approach\n",
      "def nr(J):\n",
      "    return\n",
      "\n",
      "def feature_scaling():\n",
      "    return"
     ],
     "language": "python",
     "metadata": {},
     "outputs": []
    },
    {
     "cell_type": "code",
     "collapsed": false,
     "input": [
      "A = np.arange(9).reshape((3,3))\n",
      "a = np.ones((3,1))"
     ],
     "language": "python",
     "metadata": {},
     "outputs": [],
     "prompt_number": 13
    },
    {
     "cell_type": "code",
     "collapsed": false,
     "input": [
      "np.concatenate((A,a),axis=1)"
     ],
     "language": "python",
     "metadata": {},
     "outputs": [
      {
       "metadata": {},
       "output_type": "pyout",
       "prompt_number": 14,
       "text": [
        "array([[ 0.,  1.,  2.,  1.],\n",
        "       [ 3.,  4.,  5.,  1.],\n",
        "       [ 6.,  7.,  8.,  1.]])"
       ]
      }
     ],
     "prompt_number": 14
    },
    {
     "cell_type": "code",
     "collapsed": false,
     "input": [],
     "language": "python",
     "metadata": {},
     "outputs": []
    }
   ],
   "metadata": {}
  }
 ]
}