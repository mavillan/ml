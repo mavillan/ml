{
 "cells": [
  {
   "cell_type": "markdown",
   "metadata": {},
   "source": [
    "## Parte 2 - Logistic Regression"
   ]
  },
  {
   "cell_type": "code",
   "execution_count": 1,
   "metadata": {
    "collapsed": true
   },
   "outputs": [],
   "source": [
    "#notebook settings\n",
    "%matplotlib inline\n",
    "\n",
    "#import some useful libraries and utilities\n",
    "import sys\n",
    "import numpy as np\n",
    "import matplotlib.pyplot as plt\n",
    "from sklearn.cross_validation import KFold\n",
    "\n",
    "#data directory\n",
    "path = './credit/'\n",
    "\n",
    "#parameters to try\n",
    "params = np.array([0.2e-3, 0.4e-3, 0.6e-3, 0.8e-3, 1.0e-3])"
   ]
  },
  {
   "cell_type": "code",
   "execution_count": 2,
   "metadata": {
    "collapsed": false
   },
   "outputs": [
    {
     "data": {
      "image/png": "[encoded data removed]",
      "text/plain": [
       "<matplotlib.figure.Figure at 0x7fc388186c10>"
      ]
     },
     "metadata": {},
     "output_type": "display_data"
    }
   ],
   "source": [
    "#generating boxplots for second dataset\n",
    "data = np.empty((90,20))\n",
    "for i in range(20):\n",
    "    tr_file = path+'credit-tr-{0}.npy'.format(i)\n",
    "    tr_data = np.load(tr_file)\n",
    "    data[:,i] = tr_data[:,-1]\n",
    "plt.boxplot(data)\n",
    "plt.show()"
   ]
  },
  {
   "cell_type": "code",
   "execution_count": 3,
   "metadata": {
    "collapsed": true
   },
   "outputs": [],
   "source": [
    "#helper functions\n",
    "def rescale(M,a,b):\n",
    "    \"\"\" Rescale features of M to [a,b] range \"\"\"\n",
    "    #max and min vectors\n",
    "    maxv = np.max(M, axis=0)\n",
    "    minv = np.min(M, axis=0)\n",
    "    return (b-a)*M/(maxv-minv) + (a*maxv-b*minv)/(maxv-minv)\n",
    "\n",
    "def normalize(M):\n",
    "    #mean and standard deviation vectors\n",
    "    meanv = np.mean(M, axis=0)\n",
    "    stdv = np.std(M, axis=0)\n",
    "    return (M-meanv)/stdv"
   ]
  },
  {
   "cell_type": "code",
   "execution_count": 4,
   "metadata": {
    "collapsed": true
   },
   "outputs": [],
   "source": [
    "\"\"\" Find the best learning parameter for algorithm, between \n",
    "parameters in params using k-fold cross validation \"\"\"\n",
    "def find_best(X, y, algorithm, params, mode=None):\n",
    "    #creating kfold\n",
    "    m,n = X.shape\n",
    "    kf = KFold(m, n_folds=5)\n",
    "    tr_cost = list()\n",
    "    ts_cost = list()\n",
    "    \n",
    "    for param in params:\n",
    "        mean_tr_cost = 0\n",
    "        mean_ts_cost = 0\n",
    "        for tr_index,ts_index in kf:\n",
    "            X_train, X_test = X[tr_index], X[ts_index]\n",
    "            y_train, y_test = y[tr_index], y[ts_index]\n",
    "            beta,_ = algorithm(X_train, y_train, alpha=param)\n",
    "            mean_tr_cost += J(X_train, y_train, beta)\n",
    "            mean_ts_cost += J(X_test, y_test, beta)\n",
    "        tr_cost.append(mean_tr_cost/5)\n",
    "        ts_cost.append(mean_ts_cost/5)\n",
    "    if mode=='verbose':\n",
    "        #print some info\n",
    "        print 'Mean training errors for each alpha:'\n",
    "        print tr_cost\n",
    "        print 'Mean testing errors for each alpha:'\n",
    "        print ts_cost\n",
    "    return params[np.argmin(np.array(ts_cost))]"
   ]
  },
  {
   "cell_type": "markdown",
   "metadata": {},
   "source": [
    "### Mean functions"
   ]
  },
  {
   "cell_type": "code",
   "execution_count": 66,
   "metadata": {
    "collapsed": true
   },
   "outputs": [],
   "source": [
    "#Sigmoid function\n",
    "def sigmoid(z):\n",
    "    return 1./(1.+np.exp(-z))\n",
    "\n",
    "#Overall cost function for logistic regression (log likelihood function)\n",
    "def l(X, y, beta):\n",
    "    tmp = np.dot(X,beta)\n",
    "    return (y*tmp - np.log(1.+np.exp(tmp))).sum()\n",
    "\n",
    "#Error rate for logistic regression\n",
    "def error_rate(X, y, beta):\n",
    "    h = np.round(sigmoid(np.dot(X,beta)))\n",
    "    h = h.astype(int)\n",
    "    y = y.astype(int)\n",
    "    m, = h.shape\n",
    "    return np.logical_xor(h,y).sum()/np.float(m)\n",
    "\n",
    "#Stochastic gradient ascent for logistic regression\n",
    "def gd_stochastic(X, y, alpha, eps=1e-10, max_iter=100000):\n",
    "    M,N = X.shape\n",
    "    beta = np.zeros(N)\n",
    "    l1 = l(X, y, beta)\n",
    "    for i in range(max_iter):\n",
    "        l0 = l1\n",
    "        for m in range(M):\n",
    "            beta += alpha*(y[m]-sigmoid(np.dot(X[m],beta)))*X[m]\n",
    "        #little trick\n",
    "        #beta /= np.linalg.norm(beta)\n",
    "        l1 = l(X,y,beta)\n",
    "        if np.abs(l1-l0)/np.abs(l0) < eps: break\n",
    "    return (beta,i+1)\n",
    "\n",
    "#Newton-Raphson method for logistic regression\n",
    "def nr_logistic(X, y, eps=1e-10, max_iter=100000):\n",
    "    M,N = X.shape\n",
    "    beta = np.zeros(N)\n",
    "    l1 = l(X, y, beta)\n",
    "    for i in range(max_iter):\n",
    "        l0 = l1\n",
    "        h = sigmoid(np.dot(X,beta))\n",
    "        W = np.diag(h*(1-h))\n",
    "        Hess = -1.*np.dot(X.T, np.dot(W, X))\n",
    "        Dl = np.dot(X.T, y-h)\n",
    "        #when it converges, Hess became singular\n",
    "        try:\n",
    "            beta -= 0.5*np.linalg.solve(Hess, Dl)\n",
    "        except np.linalg.LinAlgError:\n",
    "            break\n",
    "        #little trick\n",
    "        #beta /= np.linalg.norm(beta)\n",
    "        l1 = l(X, y, beta)\n",
    "        if np.abs(l1-l0)/np.abs(l0) < eps: break\n",
    "    return (beta,i+1)"
   ]
  },
  {
   "cell_type": "code",
   "execution_count": 69,
   "metadata": {
    "collapsed": false
   },
   "outputs": [],
   "source": [
    "#working array\n",
    "wa = np.load(path+'credit-tr-0.npy')\n",
    "#X = wa[:,:-1]\n",
    "X = rescale(wa[:,:-1], 0., 1.)\n",
    "#X = normalize(wa[:,:-1])\n",
    "m,n = X.shape\n",
    "X = np.concatenate((np.ones((m,1)),X),axis=1)\n",
    "y = np.ascontiguousarray(wa[:,-1])"
   ]
  },
  {
   "cell_type": "code",
   "execution_count": 70,
   "metadata": {
    "collapsed": false
   },
   "outputs": [
    {
     "name": "stdout",
     "output_type": "stream",
     "text": [
      "Beta: [  411.26356645   570.51166862 -3349.5693266   -754.90685654  7149.88859955\n",
      " -2267.05710566   102.67103279]\n",
      "N° Iter: 94\n",
      "Error rate: 0.0\n"
     ]
    },
    {
     "name": "stderr",
     "output_type": "stream",
     "text": [
      "/usr/local/anaconda/lib/python2.7/site-packages/IPython/kernel/__main__.py:8: RuntimeWarning: overflow encountered in exp\n",
      "/usr/local/anaconda/lib/python2.7/site-packages/IPython/kernel/__main__.py:3: RuntimeWarning: overflow encountered in exp\n",
      "  app.launch_new_instance()\n",
      "/usr/local/anaconda/lib/python2.7/site-packages/IPython/kernel/__main__.py:52: RuntimeWarning: invalid value encountered in double_scalars\n"
     ]
    }
   ],
   "source": [
    "beta1,it = nr_logistic(X, y)\n",
    "print 'Beta:', beta1\n",
    "print 'N° Iter:', it\n",
    "print 'Error rate:', error_rate(X,y,beta1)"
   ]
  },
  {
   "cell_type": "code",
   "execution_count": 71,
   "metadata": {
    "collapsed": false
   },
   "outputs": [
    {
     "name": "stdout",
     "output_type": "stream",
     "text": [
      "Beta: [ -1.04890077   4.1059542  -11.02009917  -1.60264862  32.4600028\n",
      " -11.02437294   1.40841336]\n",
      "N° iter: 100000\n",
      "Error rate: 0.0222222222222\n"
     ]
    }
   ],
   "source": [
    "beta2,it = gd_stochastic(X, y, 1e-3)\n",
    "print 'Beta:', beta2\n",
    "print 'N° iter:', it\n",
    "print 'Error rate:', error_rate(X,y,beta2)"
   ]
  },
  {
   "cell_type": "code",
   "execution_count": null,
   "metadata": {
    "collapsed": true
   },
   "outputs": [],
   "source": []
  }
 ],
 "metadata": {
  "kernelspec": {
   "display_name": "Python 2",
   "language": "python",
   "name": "python2"
  },
  "language_info": {
   "codemirror_mode": {
    "name": "ipython",
    "version": 2
   },
   "file_extension": ".py",
   "mimetype": "text/x-python",
   "name": "python",
   "nbconvert_exporter": "python",
   "pygments_lexer": "ipython2",
   "version": "2.7.10"
  }
 },
 "nbformat": 4,
 "nbformat_minor": 0
}
