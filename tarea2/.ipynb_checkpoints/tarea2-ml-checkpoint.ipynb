{
 "cells": [
  {
   "cell_type": "markdown",
   "metadata": {},
   "source": [
    "# Tarea N°2 - Máquinas de Aprendizaje - ILI393\n",
    "### Martín Villanueva A."
   ]
  },
  {
   "cell_type": "markdown",
   "metadata": {},
   "source": [
    "## Introducción"
   ]
  },
  {
   "cell_type": "markdown",
   "metadata": {},
   "source": [
    "## Parte 1 - Evaluación de Créditos"
   ]
  },
  {
   "cell_type": "markdown",
   "metadata": {},
   "source": [
    "## Parte 2 - Pima Indians Diabetes"
   ]
  },
  {
   "cell_type": "markdown",
   "metadata": {},
   "source": [
    "## Conclusiones"
   ]
  },
  {
   "cell_type": "markdown",
   "metadata": {},
   "source": [
    "## Anexo"
   ]
  },
  {
   "cell_type": "markdown",
   "metadata": {},
   "source": [
    "### Configuración del notebook"
   ]
  },
  {
   "cell_type": "code",
   "execution_count": 259,
   "metadata": {
    "collapsed": true
   },
   "outputs": [],
   "source": [
    "#notebook settings\n",
    "%matplotlib inline\n",
    "\n",
    "#import some useful libraries and utilities\n",
    "import numpy as np\n",
    "import matplotlib.pyplot as plt\n",
    "from sklearn.cross_validation import KFold\n",
    "from sklearn.metrics.pairwise import rbf_kernel\n",
    "\n",
    "#setting some paths\n",
    "path1 = './credit/'\n",
    "#data directory\n",
    "path2 = './diabetes/'"
   ]
  },
  {
   "cell_type": "markdown",
   "metadata": {},
   "source": [
    "## Métricas de error para clasificación"
   ]
  },
  {
   "cell_type": "code",
   "execution_count": 390,
   "metadata": {
    "collapsed": true
   },
   "outputs": [],
   "source": [
    "#precision\n",
    "def precision(yreal, ypred):\n",
    "    yr = yreal.astype(int)\n",
    "    yp = ypred.astype(int)\n",
    "    m, = yr.shape\n",
    "    #number of good predictions/number of predictions\n",
    "    return np.sum(yp==yr)/np.float(m)\n",
    "\n",
    "#error rate \n",
    "def error_rate(yreal, ypred):\n",
    "    return 1.-precision(yreal, ypred)"
   ]
  },
  {
   "cell_type": "markdown",
   "metadata": {},
   "source": [
    "## Implementación de LDA"
   ]
  },
  {
   "cell_type": "code",
   "execution_count": 168,
   "metadata": {
    "collapsed": true
   },
   "outputs": [],
   "source": [
    "class LDA:\n",
    "    def __init_(self):\n",
    "        pass\n",
    "    \n",
    "    def fit(self, X, y):\n",
    "        #boolean masks\n",
    "        mask1 = y.astype(bool)\n",
    "        mask0 = np.logical_not(mask1)\n",
    "        #number of samples in each class\n",
    "        M,_ = X.shape\n",
    "        M0 = np.sum(mask0)\n",
    "        M1 = M-M0\n",
    "        #estimates of probabilities\n",
    "        p0 = M0/np.float(M)\n",
    "        p1 = 1-p0\n",
    "        #estimates of means\n",
    "        u0 = X[mask0].sum(axis=0)/M0\n",
    "        u1 = X[mask1].sum(axis=0)/M1\n",
    "        #estimation of shared covariance matrix\n",
    "        Y = X.copy()\n",
    "        Y[mask0] -= u0\n",
    "        Y[mask1] -= u1\n",
    "        Cov = np.dot(Y.T,Y)\n",
    "        Cov /= (M-2.)\n",
    "        #computing parameters of linear discriminants\n",
    "        self.w0 = np.linalg.solve(Cov,u0)\n",
    "        self.b0 = np.log(p0) - 0.5*np.dot(u0, self.w0)\n",
    "        self.w1 = np.linalg.solve(Cov,u1)\n",
    "        self.b1 = np.log(p1) - 0.5*np.dot(u1, self.w1)\n",
    "    \n",
    "    def predict(self, X):\n",
    "        #evaluation of discriminant hyperplane\n",
    "        return (np.dot(X,self.w1-self.w0) > b0-b1).astype(int)"
   ]
  },
  {
   "cell_type": "markdown",
   "metadata": {},
   "source": [
    "## Implementación de Naive Bayes"
   ]
  },
  {
   "cell_type": "code",
   "execution_count": null,
   "metadata": {
    "collapsed": true
   },
   "outputs": [],
   "source": [
    "class NB:\n",
    "    def __init__(self):\n",
    "        pass\n",
    "    \n",
    "    def fit(self, X, y):\n",
    "        \n",
    "    def predict(self, X):\n",
    "        return"
   ]
  },
  {
   "cell_type": "markdown",
   "metadata": {},
   "source": [
    "## Implementación de Primal Perceptron"
   ]
  },
  {
   "cell_type": "code",
   "execution_count": 412,
   "metadata": {
    "collapsed": false
   },
   "outputs": [],
   "source": [
    "class PP:\n",
    "    def __init__(self):\n",
    "        pass\n",
    "    \n",
    "    def f(self, X):\n",
    "        return np.dot(X,self.w)+self.b\n",
    "    \n",
    "    def fit(self, X, y, nu, n_iter=100000, tol=25):\n",
    "        M,N = X.shape\n",
    "        #initial guesses\n",
    "        self.w = np.zeros(N)\n",
    "        self.b = 0.\n",
    "        #R parameter\n",
    "        R = np.max(np.linalg.norm(X, axis=1))\n",
    "        #error rate and counter\n",
    "        err1 = error_rate(y, self.predict(X))\n",
    "        c = 0\n",
    "        \n",
    "        for i in xrange(n_iter):\n",
    "            #error rate at previous iteration\n",
    "            err0 = err1\n",
    "            for m in xrange(M):\n",
    "                #if misclassified\n",
    "                if y[m]*self.f(X[m])<=0:\n",
    "                    self.w += nu*y[m]*X[m]\n",
    "                    self.b += nu*y[m]*R**2\n",
    "            err1 = error_rate(y, self.predict(X))\n",
    "            #stopping criterions\n",
    "            if err1==0.: break\n",
    "            elif err0==err1:\n",
    "                c += 1\n",
    "                if c > tol: break\n",
    "            else: c = 0\n",
    "        return (self.b,self.w,i)\n",
    "        \n",
    "    def predict(self, X):\n",
    "        return np.sign(self.f(X))\n",
    "    \n",
    "    #to make it compatible with GridSearch\n",
    "    def score(self, X, y):\n",
    "        return"
   ]
  },
  {
   "cell_type": "markdown",
   "metadata": {},
   "source": [
    "+ La primera vez que se implemento, en la regla de actualización para $b$ se puso equívocamente: $b \\leftarrow b + \\nu y_m R \\ $    en vez de $R^2$, y los resultados obtenidos fueron mucho mejores."
   ]
  },
  {
   "cell_type": "code",
   "execution_count": 409,
   "metadata": {
    "collapsed": false
   },
   "outputs": [],
   "source": [
    "wa = np.load(path1+'credit-tr-1.npy')\n",
    "X = wa[:,:-1]\n",
    "y = wa[:,-1]\n",
    "y[y==0.]=-1"
   ]
  },
  {
   "cell_type": "code",
   "execution_count": 410,
   "metadata": {
    "collapsed": false
   },
   "outputs": [
    {
     "name": "stdout",
     "output_type": "stream",
     "text": [
      "0.0\n",
      "[  6.140368  -12.98217    -3.7652818  27.61       -8.38        8.047939 ]\n",
      "96\n"
     ]
    }
   ],
   "source": [
    "pp = PP()\n",
    "b,w,i = pp.fit(X, y, 0.01)\n",
    "print b\n",
    "print w\n",
    "print i"
   ]
  },
  {
   "cell_type": "code",
   "execution_count": 411,
   "metadata": {
    "collapsed": false
   },
   "outputs": [
    {
     "name": "stdout",
     "output_type": "stream",
     "text": [
      "0.277777777778\n"
     ]
    }
   ],
   "source": [
    "print error_rate(y, pp.predict(X))"
   ]
  },
  {
   "cell_type": "markdown",
   "metadata": {},
   "source": [
    "## Implementación de Dual Perceptron"
   ]
  },
  {
   "cell_type": "code",
   "execution_count": 417,
   "metadata": {
    "collapsed": false
   },
   "outputs": [],
   "source": [
    "class DP:\n",
    "    def __init__(self):\n",
    "        pass\n",
    "\n",
    "    def fit(self, X, y, nu, gamma, n_iter=100000, tol=25):\n",
    "        M,N = X.shape\n",
    "        #store it\n",
    "        self.X = X\n",
    "        self.y = y\n",
    "        self.gamma = gamma\n",
    "        #initial guesses\n",
    "        self.alp = np.zeros(M)\n",
    "        self.b = 0.\n",
    "        #R parameter\n",
    "        R = np.max(np.linalg.norm(X, axis=1))\n",
    "        #precomputed kernel matrix\n",
    "        self.K = rbf_kernel(X, gamma=gamma)\n",
    "        #error rate and counter\n",
    "        err1 = error_rate(y, self.predict(X))\n",
    "        c = 0\n",
    "        \n",
    "        for i in xrange(n_iter):\n",
    "            #error rate at previous iteration\n",
    "            err0 = err1\n",
    "            for m in xrange(M):\n",
    "                #if misclassified\n",
    "                if y[m]*(np.sum(self.alp*y*self.K[m])+self.b)<=0:\n",
    "                    self.alp[m] += 1\n",
    "                    self.b += nu*y[m]*R**2\n",
    "                    print 'iter:', i\n",
    "                    print 'm:',m\n",
    "                    print 'beta:', self.b\n",
    "                    print '####'\n",
    "            err1 = error_rate(y, self.predict(X))\n",
    "            #stopping criterions\n",
    "            if err1==0.: break\n",
    "            elif err0==err1:\n",
    "                c += 1\n",
    "                if c > tol: break\n",
    "            else: c = 0\n",
    "        return (self.b,i+1)\n",
    "        \n",
    "        \n",
    "    def predict(self, X):\n",
    "        if np.array_equal(X, self.X):\n",
    "            K = self.K\n",
    "        else:\n",
    "            #compute kernel matrix\n",
    "            K = rbf_kernel(X, self.X, self.gamma)\n",
    "        f = np.sum(self.alp*self.y*K, axis=1)+self.b\n",
    "        return np.sign(f)\n",
    "    \n",
    "    #to make it compatible with GridSearch\n",
    "    def score(self, X, y):\n",
    "        return"
   ]
  },
  {
   "cell_type": "code",
   "execution_count": 421,
   "metadata": {
    "collapsed": false
   },
   "outputs": [],
   "source": [
    "wa = np.load(path1+'credit-tr-0.npy')\n",
    "X = wa[:,:-1]\n",
    "y = wa[:,-1]\n",
    "y[y==0.]=-1"
   ]
  },
  {
   "cell_type": "code",
   "execution_count": 419,
   "metadata": {
    "collapsed": false
   },
   "outputs": [
    {
     "name": "stdout",
     "output_type": "stream",
     "text": [
      "iter: 0\n",
      "m: 0\n",
      "beta: 452.3347711\n",
      "####\n",
      "iter: 0\n",
      "m: 1\n",
      "beta: 0.0\n",
      "####\n",
      "iter: 0\n",
      "m: 2\n",
      "beta: -452.3347711\n",
      "####\n",
      "iter: 0\n",
      "m: 4\n",
      "beta: 0.0\n",
      "####\n",
      "iter: 0\n",
      "m: 5\n",
      "beta: -452.3347711\n",
      "####\n",
      "iter: 0\n",
      "m: 10\n",
      "beta: 0.0\n",
      "####\n",
      "iter: 0\n",
      "m: 12\n",
      "beta: 452.3347711\n",
      "####\n",
      "iter: 0\n",
      "m: 13\n",
      "beta: 0.0\n",
      "####\n",
      "iter: 0\n",
      "m: 14\n",
      "beta: 452.3347711\n",
      "####\n",
      "iter: 0\n",
      "m: 15\n",
      "beta: 0.0\n",
      "####\n",
      "iter: 0\n",
      "m: 21\n",
      "beta: -452.3347711\n",
      "####\n",
      "iter: 0\n",
      "m: 22\n",
      "beta: 0.0\n",
      "####\n",
      "iter: 0\n",
      "m: 23\n",
      "beta: 452.3347711\n",
      "####\n",
      "iter: 0\n",
      "m: 25\n",
      "beta: 0.0\n",
      "####\n",
      "iter: 0\n",
      "m: 30\n",
      "beta: 452.3347711\n",
      "####\n",
      "iter: 0\n",
      "m: 32\n",
      "beta: 0.0\n",
      "####\n",
      "iter: 0\n",
      "m: 33\n",
      "beta: -452.3347711\n",
      "####\n",
      "iter: 0\n",
      "m: 37\n",
      "beta: 0.0\n",
      "####\n",
      "iter: 0\n",
      "m: 41\n",
      "beta: 452.3347711\n",
      "####\n",
      "iter: 0\n",
      "m: 42\n",
      "beta: 0.0\n",
      "####\n",
      "iter: 0\n",
      "m: 51\n",
      "beta: 452.3347711\n",
      "####\n",
      "iter: 0\n",
      "m: 52\n",
      "beta: 0.0\n",
      "####\n",
      "iter: 0\n",
      "m: 53\n",
      "beta: 452.3347711\n",
      "####\n",
      "iter: 0\n",
      "m: 54\n",
      "beta: 0.0\n",
      "####\n",
      "iter: 0\n",
      "m: 56\n",
      "beta: 452.3347711\n",
      "####\n",
      "iter: 0\n",
      "m: 57\n",
      "beta: 0.0\n",
      "####\n",
      "iter: 0\n",
      "m: 63\n",
      "beta: 452.3347711\n",
      "####\n",
      "iter: 0\n",
      "m: 64\n",
      "beta: 0.0\n",
      "####\n",
      "iter: 0\n",
      "m: 66\n",
      "beta: -452.3347711\n",
      "####\n",
      "iter: 0\n",
      "m: 68\n",
      "beta: 0.0\n",
      "####\n",
      "iter: 0\n",
      "m: 79\n",
      "beta: 452.3347711\n",
      "####\n",
      "iter: 0\n",
      "m: 80\n",
      "beta: 0.0\n",
      "####\n",
      "iter: 0\n",
      "m: 86\n",
      "beta: 452.3347711\n",
      "####\n",
      "iter: 0\n",
      "m: 89\n",
      "beta: 0.0\n",
      "####\n",
      "iter: 1\n",
      "m: 7\n",
      "beta: -452.3347711\n",
      "####\n",
      "iter: 1\n",
      "m: 10\n",
      "beta: 0.0\n",
      "####\n",
      "iter: 1\n",
      "m: 16\n",
      "beta: -452.3347711\n",
      "####\n",
      "iter: 1\n",
      "m: 22\n",
      "beta: 0.0\n",
      "####\n",
      "iter: 1\n",
      "m: 24\n",
      "beta: 452.3347711\n",
      "####\n",
      "iter: 1\n",
      "m: 25\n",
      "beta: 0.0\n",
      "####\n",
      "iter: 1\n",
      "m: 28\n",
      "beta: 452.3347711\n",
      "####\n",
      "iter: 1\n",
      "m: 29\n",
      "beta: 0.0\n",
      "####\n",
      "iter: 1\n",
      "m: 38\n",
      "beta: -452.3347711\n",
      "####\n",
      "iter: 1\n",
      "m: 41\n",
      "beta: 0.0\n",
      "####\n",
      "iter: 1\n",
      "m: 49\n",
      "beta: 452.3347711\n",
      "####\n",
      "iter: 1\n",
      "m: 50\n",
      "beta: 0.0\n",
      "####\n",
      "iter: 1\n",
      "m: 67\n",
      "beta: -452.3347711\n",
      "####\n",
      "iter: 1\n",
      "m: 68\n",
      "beta: 0.0\n",
      "####\n",
      "iter: 1\n",
      "m: 70\n",
      "beta: 452.3347711\n",
      "####\n",
      "iter: 1\n",
      "m: 72\n",
      "beta: 0.0\n",
      "####\n",
      "iter: 2\n",
      "m: 3\n",
      "beta: -452.3347711\n",
      "####\n",
      "iter: 2\n",
      "m: 4\n",
      "beta: 0.0\n",
      "####\n",
      "iter: 2\n",
      "m: 20\n",
      "beta: -452.3347711\n",
      "####\n",
      "iter: 2\n",
      "m: 22\n",
      "beta: 0.0\n",
      "####\n",
      "iter: 2\n",
      "m: 26\n",
      "beta: 452.3347711\n",
      "####\n",
      "iter: 2\n",
      "m: 27\n",
      "beta: 0.0\n",
      "####\n",
      "0.0\n",
      "3\n"
     ]
    }
   ],
   "source": [
    "dp = DP()\n",
    "b,i= dp.fit(X, y, 0.01, 0.5)\n",
    "print b\n",
    "print i"
   ]
  },
  {
   "cell_type": "code",
   "execution_count": 379,
   "metadata": {
    "collapsed": false
   },
   "outputs": [
    {
     "name": "stdout",
     "output_type": "stream",
     "text": [
      "0.0\n"
     ]
    }
   ],
   "source": [
    "print error_rate(y, dp.predict(X))"
   ]
  }
 ],
 "metadata": {
  "kernelspec": {
   "display_name": "Python 2",
   "language": "python",
   "name": "python2"
  },
  "language_info": {
   "codemirror_mode": {
    "name": "ipython",
    "version": 2
   },
   "file_extension": ".py",
   "mimetype": "text/x-python",
   "name": "python",
   "nbconvert_exporter": "python",
   "pygments_lexer": "ipython2",
   "version": "2.7.10"
  }
 },
 "nbformat": 4,
 "nbformat_minor": 0
}
