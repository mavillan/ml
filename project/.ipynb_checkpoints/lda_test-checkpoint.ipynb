{
 "cells": [
  {
   "cell_type": "code",
   "execution_count": 15,
   "metadata": {
    "collapsed": false
   },
   "outputs": [],
   "source": [
    "import os\n",
    "import numpy as np\n",
    "import matplotlib.pyplot as plt\n",
    "import cv2 as cv\n",
    "from sklearn.discriminant_analysis import LinearDiscriminantAnalysis as LDA"
   ]
  },
  {
   "cell_type": "code",
   "execution_count": 55,
   "metadata": {
    "collapsed": true
   },
   "outputs": [],
   "source": [
    "#number of samples M and features N\n",
    "M_tr = 152*5\n",
    "N_tr = 180*200\n",
    "M_ts = 152*15\n",
    "N_ts = 180*200\n",
    "\n",
    "\"\"\"\n",
    "> function to load data from path directory to a matrix.\n",
    "> each row of the resulting matrix, corresponds to a flattened image\n",
    "  in grayscale format\n",
    "\"\"\"\n",
    "def load_data(path):\n",
    "    if 'training' in path:\n",
    "        M = M_tr\n",
    "        N = N_tr\n",
    "    elif 'testing' in path:\n",
    "        M = M_ts\n",
    "        N = N_ts\n",
    "    else:\n",
    "        print \"Invalid path!\"\n",
    "        return -1\n",
    "    #matrix with features and labels\n",
    "    data = np.empty((M, N+1))\n",
    "    #index of data matrix\n",
    "    m = 0\n",
    "    for i in range(1,153):\n",
    "        tgt = path+str(i)+'/'\n",
    "        pics = os.listdir(tgt)\n",
    "        for pic in pics:\n",
    "            data[m,0:-1] = cv.imread(tgt+pic, cv.IMREAD_GRAYSCALE).ravel()\n",
    "            data[m,-1] = i\n",
    "            m +=1\n",
    "    #just to verify that orden doesn't affect results\n",
    "    np.random.shuffle(data)\n",
    "    return (data[:,0:-1], data[:,-1])"
   ]
  },
  {
   "cell_type": "code",
   "execution_count": 65,
   "metadata": {
    "collapsed": false
   },
   "outputs": [],
   "source": [
    "#load data\n",
    "X_tr,y_tr = load_data('./training_set/')\n",
    "X_ts,y_ts = load_data('./testing_set/')"
   ]
  },
  {
   "cell_type": "code",
   "execution_count": 66,
   "metadata": {
    "collapsed": false
   },
   "outputs": [
    {
     "data": {
      "text/plain": [
       "LinearDiscriminantAnalysis(n_components=None, priors=None, shrinkage=None,\n",
       "              solver='svd', store_covariance=False, tol=0.0001)"
      ]
     },
     "execution_count": 66,
     "metadata": {},
     "output_type": "execute_result"
    }
   ],
   "source": [
    "clf = LDA()\n",
    "clf.fit(X_tr, y_tr)"
   ]
  },
  {
   "cell_type": "code",
   "execution_count": 67,
   "metadata": {
    "collapsed": false
   },
   "outputs": [],
   "source": [
    "#true positives calculation\n",
    "tp = (clf.predict(X_ts)==y_ts).sum()\n",
    "#clf.predict([X_ts[15]])"
   ]
  },
  {
   "cell_type": "code",
   "execution_count": 68,
   "metadata": {
    "collapsed": false
   },
   "outputs": [
    {
     "data": {
      "text/plain": [
       "2279"
      ]
     },
     "execution_count": 68,
     "metadata": {},
     "output_type": "execute_result"
    }
   ],
   "source": [
    "tp.sum()"
   ]
  },
  {
   "cell_type": "code",
   "execution_count": 69,
   "metadata": {
    "collapsed": false
   },
   "outputs": [
    {
     "ename": "TypeError",
     "evalue": "score() takes at least 3 arguments (2 given)",
     "output_type": "error",
     "traceback": [
      "\u001b[1;31m---------------------------------------------------------------------------\u001b[0m",
      "\u001b[1;31mTypeError\u001b[0m                                 Traceback (most recent call last)",
      "\u001b[1;32m<ipython-input-69-e12efec488cc>\u001b[0m in \u001b[0;36m<module>\u001b[1;34m()\u001b[0m\n\u001b[1;32m----> 1\u001b[1;33m \u001b[0mclf\u001b[0m\u001b[1;33m.\u001b[0m\u001b[0mscore\u001b[0m\u001b[1;33m(\u001b[0m\u001b[1;33m[\u001b[0m\u001b[0mX_ts\u001b[0m\u001b[1;33m[\u001b[0m\u001b[1;36m0\u001b[0m\u001b[1;33m]\u001b[0m\u001b[1;33m]\u001b[0m\u001b[1;33m)\u001b[0m\u001b[1;33m\u001b[0m\u001b[0m\n\u001b[0m",
      "\u001b[1;31mTypeError\u001b[0m: score() takes at least 3 arguments (2 given)"
     ]
    }
   ],
   "source": [
    "clf.decision_function()"
   ]
  },
  {
   "cell_type": "code",
   "execution_count": null,
   "metadata": {
    "collapsed": true
   },
   "outputs": [],
   "source": []
  }
 ],
 "metadata": {
  "kernelspec": {
   "display_name": "Python 2",
   "language": "python",
   "name": "python2"
  },
  "language_info": {
   "codemirror_mode": {
    "name": "ipython",
    "version": 2
   },
   "file_extension": ".py",
   "mimetype": "text/x-python",
   "name": "python",
   "nbconvert_exporter": "python",
   "pygments_lexer": "ipython2",
   "version": "2.7.10"
  }
 },
 "nbformat": 4,
 "nbformat_minor": 0
}
