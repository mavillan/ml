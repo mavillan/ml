{
 "cells": [
  {
   "cell_type": "code",
   "execution_count": 1,
   "metadata": {
    "collapsed": true
   },
   "outputs": [],
   "source": [
    "%matplotlib inline\n",
    "import os\n",
    "import time\n",
    "import numpy as np\n",
    "import scipy as sp\n",
    "import matplotlib.pyplot as plt\n",
    "\n",
    "import cv2 as cv\n",
    "from sklearn import svm, grid_search\n",
    "from sklearn.cross_validation import StratifiedKFold\n",
    "from sklearn.discriminant_analysis import LinearDiscriminantAnalysis as LDA\n",
    "from sklearn.decomposition import PCA\n",
    "from sklearn.base import BaseEstimator, ClassifierMixin\n",
    "\n",
    "\n",
    "#libraries for proposed approach\n",
    "import histogram #own library\n",
    "from sklearn.metrics.pairwise import chi2_kernel\n",
    "from skimage.feature import local_binary_pattern as lbp"
   ]
  },
  {
   "cell_type": "code",
   "execution_count": 2,
   "metadata": {
    "collapsed": true
   },
   "outputs": [],
   "source": [
    "def mean_confidence_interval(data, confidence=0.9):\n",
    "    #computing confidence interval\n",
    "    n = data.shape[0]\n",
    "    mu = np.mean(data)\n",
    "    sem = sp.stats.sem(data)\n",
    "    h1,h2 = sp.stats.t.interval(confidence, n-1, loc=mu, scale=sem)\n",
    "    return mu, h1, h2\n",
    "\n",
    "def mean_percentile(data, inf=10, sup=90):\n",
    "    mu = np.mean(data)\n",
    "    h1, h2 = np.percentile(data, [10,90])\n",
    "    return mu, h1, h2\n",
    "\n",
    "def plot_errorbars(errors, title=None):\n",
    "    mean = []\n",
    "    lower = []\n",
    "    upper = []\n",
    "    for error in errors:\n",
    "        mu,l,u = mean_confidence_interval(error)\n",
    "        mean.append(mu)\n",
    "        lower.append(l)\n",
    "        upper.append(u)\n",
    "    x = np.arange(3, len(errors)+3)\n",
    "    mean = np.array(mean)\n",
    "    lower = mean-np.array(lower)\n",
    "    upper = np.array(upper)-mean\n",
    "    labels = ['3spc','4spc','5spc']\n",
    "    plt.figure(figsize=(12,6))\n",
    "    plt.xlim([2,6])\n",
    "    plt.xticks(x, labels)\n",
    "    plt.errorbar(x, mean, yerr=[lower,upper],fmt='o')\n",
    "    plt.xlabel('Samples per class')\n",
    "    plt.ylabel('Mean error rate')\n",
    "    plt.title(title)\n",
    "    plt.show()"
   ]
  },
  {
   "cell_type": "code",
   "execution_count": 4,
   "metadata": {
    "collapsed": true
   },
   "outputs": [],
   "source": [
    "#loading the results for faces94\n",
    "cnn_tr_err_faces94_3spc = np.load('./cnn_results/tr_err_faces94_3spc_cnn.npy')\n",
    "cnn_ts_err_faces94_3spc = np.load('./cnn_results/ts_err_faces94_3spc_cnn.npy')\n",
    "cnn_tr_err_faces94_4spc = np.load('./cnn_results/tr_err_faces94_4spc_cnn.npy')\n",
    "cnn_ts_err_faces94_4spc = np.load('./cnn_results/ts_err_faces94_4spc_cnn.npy')\n",
    "cnn_tr_err_faces94_5spc = np.load('./cnn_results/tr_err_faces94_5spc_cnn.npy')\n",
    "cnn_ts_err_faces94_5spc = np.load('./cnn_results/ts_err_faces94_5spc_cnn.npy')\n",
    "\n",
    "tr_errors_cnn_faces94 = [cnn_tr_err_faces94_3spc, cnn_tr_err_faces94_4spc, cnn_tr_err_faces94_5spc]\n",
    "ts_errors_cnn_faces94 = [cnn_ts_err_faces94_3spc, cnn_ts_err_faces94_4spc, cnn_ts_err_faces94_5spc]\n",
    "\n",
    "#loading results for faces95\n",
    "cnn_tr_err_faces95_3spc = np.load('./cnn_results/tr_err_faces95_3spc_cnn.npy')\n",
    "cnn_ts_err_faces95_3spc = np.load('./cnn_results/ts_err_faces95_3spc_cnn.npy')\n",
    "cnn_tr_err_faces95_4spc = np.load('./cnn_results/tr_err_faces95_4spc_cnn.npy')\n",
    "cnn_ts_err_faces95_4spc = np.load('./cnn_results/ts_err_faces95_4spc_cnn.npy')\n",
    "cnn_tr_err_faces95_5spc = np.load('./cnn_results/tr_err_faces95_5spc_cnn.npy')\n",
    "cnn_ts_err_faces95_5spc = np.load('./cnn_results/ts_err_faces95_5spc_cnn.npy')\n",
    "\n",
    "tr_errors_cnn_faces95 = [cnn_tr_err_faces94_5spc, cnn_tr_err_faces95_4spc, cnn_tr_err_faces95_5spc]\n",
    "ts_errors_cnn_faces95 = [cnn_ts_err_faces94_5spc, cnn_ts_err_faces95_4spc, cnn_ts_err_faces95_5spc]"
   ]
  },
  {
   "cell_type": "code",
   "execution_count": null,
   "metadata": {
    "collapsed": true
   },
   "outputs": [],
   "source": []
  }
 ],
 "metadata": {
  "kernelspec": {
   "display_name": "Python 2",
   "language": "python",
   "name": "python2"
  },
  "language_info": {
   "codemirror_mode": {
    "name": "ipython",
    "version": 2
   },
   "file_extension": ".py",
   "mimetype": "text/x-python",
   "name": "python",
   "nbconvert_exporter": "python",
   "pygments_lexer": "ipython2",
   "version": "2.7.11"
  }
 },
 "nbformat": 4,
 "nbformat_minor": 0
}
