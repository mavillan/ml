{
 "cells": [
  {
   "cell_type": "code",
   "execution_count": 1,
   "metadata": {
    "collapsed": false
   },
   "outputs": [],
   "source": [
    "import os\n",
    "import numpy as np\n",
    "import matplotlib.pyplot as plt\n",
    "import cv2 as cv"
   ]
  },
  {
   "cell_type": "code",
   "execution_count": 4,
   "metadata": {
    "collapsed": true
   },
   "outputs": [],
   "source": [
    "#number of samples M and features N\n",
    "M_tr = 153*5\n",
    "N_tr = 180*200\n",
    "\n",
    "def load_training(tr_path='./training_set/'):\n",
    "    #matrix with training data\n",
    "    tr_data = np.empty((M_tr, N_tr))\n",
    "    #index of tr_data matrix\n",
    "    m = 0\n",
    "    for i in range(1,154):\n",
    "        tgt = tr_path+str(i)+'/'\n",
    "        pics = os.listdir(tgt)\n",
    "        print i,\n",
    "        print pics\n",
    "        for pic in pics:\n",
    "            tr_data[m] = cv.imread(tgt+pic, cv.IMREAD_GRAYSCALE).ravel()\n",
    "            m +=1\n",
    "    return tr_data"
   ]
  },
  {
   "cell_type": "code",
   "execution_count": 5,
   "metadata": {
    "collapsed": false
   },
   "outputs": [
    {
     "name": "stdout",
     "output_type": "stream",
     "text": [
      "1 ['9332898.4.jpg', '9332898.18.jpg', '9332898.13.jpg', '9332898.1.jpg', '9332898.16.jpg']\n",
      "2 ['9336923.7.jpg', '9336923.14.jpg', '9336923.19.jpg', '9336923.5.jpg', '9336923.3.jpg']\n",
      "3 ['9338446.17.jpg', '9338446.20.jpg', '9338446.3.jpg', '9338446.11.jpg', '9338446.10.jpg']\n",
      "4 ['9338454.11.jpg', '9338454.16.jpg', '9338454.2.jpg', '9338454.1.jpg', '9338454.19.jpg']\n",
      "5 ['9338462.6.jpg', '9338462.4.jpg', '9338462.12.jpg', '9338462.20.jpg', '9338462.17.jpg']\n",
      "6 ['9338489.10.jpg', '9338489.9.jpg', '9338489.11.jpg', '9338489.2.jpg', '9338489.12.jpg']\n",
      "7 ['9338497.1.jpg', '9338497.14.jpg', '9338497.20.jpg', '9338497.7.jpg', '9338497.18.jpg']\n",
      "8 ['9338519.11.jpg', '9338519.9.jpg', '9338519.4.jpg', '9338519.16.jpg', '9338519.13.jpg']\n",
      "9 ['9338527.7.jpg', '9338527.11.jpg', '9338527.20.jpg', '9338527.8.jpg', '9338527.1.jpg']\n",
      "10 ['9338535.10.jpg', '9338535.15.jpg', '9338535.5.jpg', '9338535.17.jpg', '9338535.11.jpg']\n",
      "11 ['9338543.5.jpg', '9338543.2.jpg', '9338543.18.jpg', '9338543.15.jpg', '9338543.10.jpg']\n",
      "12 ['9414649.17.jpg', '9414649.9.jpg', '9414649.16.jpg', '9414649.8.jpg', '9414649.13.jpg']\n",
      "13 ['9416994.8.jpg', '9416994.4.jpg', '9416994.18.jpg', '9416994.2.jpg', '9416994.12.jpg']\n",
      "14 ['admars.2.jpg', 'admars.6.jpg', 'admars.15.jpg', 'admars.8.jpg', 'admars.18.jpg']\n",
      "15 ['ahodki.7.jpg', 'ahodki.20.jpg', 'ahodki.2.jpg', 'ahodki.15.jpg', 'ahodki.11.jpg']\n",
      "16 ['ajflem.16.jpg', 'ajflem.14.jpg', 'ajflem.1.jpg', 'ajflem.13.jpg', 'ajflem.17.jpg']\n",
      "17 ['ajones.15.jpg', 'ajones.12.jpg', 'ajones.11.jpg', 'ajones.17.jpg', 'ajones.10.jpg']\n",
      "18 ['ajsega.19.jpg', 'ajsega.9.jpg', 'ajsega.11.jpg', 'ajsega.2.jpg', 'ajsega.6.jpg']\n",
      "19 ['akatsi.17.jpg', 'akatsi.3.jpg', 'akatsi.5.jpg', 'akatsi.20.jpg', 'akatsi.2.jpg']\n",
      "20 ['ambarw.19.jpg', 'ambarw.17.jpg', 'ambarw.14.jpg', 'ambarw.20.jpg', 'ambarw.3.jpg']\n",
      "21 ['anonym.6.jpg', 'anonym.12.jpg', 'anonym.9.jpg', 'anonym.18.jpg', 'anonym.10.jpg']\n",
      "22 ['anonym1.6.jpg', 'anonym1.11.jpg', 'anonym1.4.jpg', 'anonym1.16.jpg', 'anonym1.12.jpg']\n",
      "23 ['anonym2.11.jpg', 'anonym2.5.jpg', 'anonym2.13.jpg', 'anonym2.18.jpg', 'anonym2.9.jpg']\n",
      "24 ['anpage.13.jpg', 'anpage.2.jpg', 'anpage.19.jpg', 'anpage.18.jpg', 'anpage.9.jpg']\n",
      "25 ['asamma.8.jpg', 'asamma.2.jpg', 'asamma.15.jpg', 'asamma.11.jpg', 'asamma.14.jpg']\n",
      "26 ['asewil.9.jpg', 'asewil.5.jpg', 'asewil.12.jpg', 'asewil.13.jpg', 'asewil.15.jpg']\n",
      "27 ['asheal.10.jpg', 'asheal.7.jpg', 'asheal.5.jpg', 'asheal.20.jpg', 'asheal.2.jpg']\n",
      "28 ['astefa.6.jpg', 'astefa.4.jpg', 'astefa.7.jpg', 'astefa.12.jpg', 'astefa.1.jpg']\n",
      "29 ['bplyce.4.jpg', 'bplyce.14.jpg', 'bplyce.20.jpg', 'bplyce.5.jpg', 'bplyce.3.jpg']\n",
      "30 ['cchris.10.jpg', 'cchris.11.jpg', 'cchris.2.jpg', 'cchris.20.jpg', 'cchris.18.jpg']\n",
      "31 ['ccjame.19.jpg', 'ccjame.8.jpg', 'ccjame.7.jpg', 'ccjame.6.jpg', 'ccjame.13.jpg']\n",
      "32 ['cferdo.12.jpg', 'cferdo.9.jpg', 'cferdo.14.jpg', 'cferdo.8.jpg', 'cferdo.1.jpg']\n",
      "33 ['cgboyc.4.jpg', 'cgboyc.8.jpg', 'cgboyc.14.jpg', 'cgboyc.16.jpg', 'cgboyc.9.jpg']\n",
      "34 ['cjcarr.10.jpg', 'cjcarr.14.jpg', 'cjcarr.20.jpg', 'cjcarr.3.jpg', 'cjcarr.16.jpg']\n",
      "35 ['cjdenn.10.jpg', 'cjdenn.17.jpg', 'cjdenn.18.jpg', 'cjdenn.5.jpg', 'cjdenn.11.jpg']\n",
      "36 ['cjsake.13.jpg', 'cjsake.3.jpg', 'cjsake.15.jpg', 'cjsake.6.jpg', 'cjsake.20.jpg']\n",
      "37 ['cmkirk.15.jpg', 'cmkirk.11.jpg', 'cmkirk.16.jpg', 'cmkirk.3.jpg', 'cmkirk.17.jpg']\n",
      "38 ['csanch.19.jpg', 'csanch.5.jpg', 'csanch.10.jpg', 'csanch.13.jpg', 'csanch.8.jpg']\n",
      "39 ['cshubb.13.jpg', 'cshubb.4.jpg', 'cshubb.8.jpg', 'cshubb.20.jpg', 'cshubb.1.jpg']\n",
      "40 ['cwang.20.jpg', 'cwang.15.jpg', 'cwang.1.jpg', 'cwang.5.jpg', 'cwang.6.jpg']\n",
      "41 ['cwchoi.3.jpg', 'cwchoi.18.jpg', 'cwchoi.16.jpg', 'cwchoi.4.jpg', 'cwchoi.2.jpg']\n",
      "42 ['dagran.19.jpg', 'dagran.17.jpg', 'dagran.18.jpg', 'dagran.16.jpg', 'dagran.10.jpg']\n",
      "43 ['dakram.17.jpg', 'dakram.3.jpg', 'dakram.13.jpg', 'dakram.16.jpg', 'dakram.4.jpg']\n",
      "44 ['dcbowe.17.jpg', 'dcbowe.9.jpg', 'dcbowe.5.jpg', 'dcbowe.3.jpg', 'dcbowe.15.jpg']\n",
      "45 ['dioann.16.jpg', 'dioann.1.jpg', 'dioann.18.jpg', 'dioann.20.jpg', 'dioann.8.jpg']\n",
      "46 ['djbirc.12.jpg', 'djbirc.17.jpg', 'djbirc.10.jpg', 'djbirc.6.jpg', 'djbirc.1.jpg']\n",
      "47 ['djhugh.3.jpg', 'djhugh.19.jpg', 'djhugh.16.jpg', 'djhugh.7.jpg', 'djhugh.18.jpg']\n",
      "48 ['djmart.11.jpg', 'djmart.7.jpg', 'djmart.12.jpg', 'djmart.13.jpg', 'djmart.14.jpg']\n",
      "49 ['dmwest.6.jpg', 'dmwest.8.jpg', 'dmwest.4.jpg', 'dmwest.9.jpg', 'dmwest.10.jpg']\n",
      "50 ['doraj.10.jpg', 'doraj.3.jpg', 'doraj.2.jpg', 'doraj.12.jpg', 'doraj.17.jpg']\n",
      "51 ['drbost.9.jpg', 'drbost.12.jpg', 'drbost.13.jpg', 'drbost.20.jpg', 'drbost.17.jpg']\n",
      "52 ['ekavaz.13.jpg', 'ekavaz.3.jpg', 'ekavaz.19.jpg', 'ekavaz.17.jpg', 'ekavaz.10.jpg']\n",
      "53 ['elduns.3.jpg', 'elduns.1.jpg', 'elduns.11.jpg', 'elduns.6.jpg', 'elduns.14.jpg']\n",
      "54 ['fordj.20.jpg', 'fordj.1.jpg', 'fordj.9.jpg', 'fordj.14.jpg', 'fordj.15.jpg']\n",
      "55 ['gdhatc.20.jpg', 'gdhatc.3.jpg', 'gdhatc.4.jpg', 'gdhatc.18.jpg', 'gdhatc.17.jpg']\n",
      "56 ['ggeorg.9.jpg', 'ggeorg.7.jpg', 'ggeorg.16.jpg', 'ggeorg.20.jpg', 'ggeorg.5.jpg']\n",
      "57 ['ggrego.1.jpg', 'ggrego.7.jpg', 'ggrego.9.jpg', 'ggrego.18.jpg', 'ggrego.8.jpg']\n",
      "58 ['gjhero.15.jpg', 'gjhero.6.jpg', 'gjhero.2.jpg', 'gjhero.20.jpg', 'gjhero.14.jpg']\n",
      "59 ['gjnorm.5.jpg', 'gjnorm.11.jpg', 'gjnorm.8.jpg', 'gjnorm.3.jpg', 'gjnorm.20.jpg']\n",
      "60 ['gmwate.6.jpg', 'gmwate.12.jpg', 'gmwate.2.jpg', 'gmwate.11.jpg', 'gmwate.19.jpg']\n",
      "61 ['phughe.jpg', 'klclar.jpg', 'mbutle.gif', 'asewil.gif', 'kaknig.jpg']\n"
     ]
    },
    {
     "ename": "AttributeError",
     "evalue": "'NoneType' object has no attribute 'ravel'",
     "output_type": "error",
     "traceback": [
      "\u001b[1;31m---------------------------------------------------------------------------\u001b[0m",
      "\u001b[1;31mAttributeError\u001b[0m                            Traceback (most recent call last)",
      "\u001b[1;32m<ipython-input-5-d8f84b71a0c5>\u001b[0m in \u001b[0;36m<module>\u001b[1;34m()\u001b[0m\n\u001b[1;32m----> 1\u001b[1;33m \u001b[0masdf\u001b[0m \u001b[1;33m=\u001b[0m \u001b[0mload_training\u001b[0m\u001b[1;33m(\u001b[0m\u001b[1;33m)\u001b[0m\u001b[1;33m\u001b[0m\u001b[0m\n\u001b[0m",
      "\u001b[1;32m<ipython-input-4-a8723bb21a8e>\u001b[0m in \u001b[0;36mload_training\u001b[1;34m(tr_path)\u001b[0m\n\u001b[0;32m     14\u001b[0m         \u001b[1;32mprint\u001b[0m \u001b[0mpics\u001b[0m\u001b[1;33m\u001b[0m\u001b[0m\n\u001b[0;32m     15\u001b[0m         \u001b[1;32mfor\u001b[0m \u001b[0mpic\u001b[0m \u001b[1;32min\u001b[0m \u001b[0mpics\u001b[0m\u001b[1;33m:\u001b[0m\u001b[1;33m\u001b[0m\u001b[0m\n\u001b[1;32m---> 16\u001b[1;33m             \u001b[0mtr_data\u001b[0m\u001b[1;33m[\u001b[0m\u001b[0mm\u001b[0m\u001b[1;33m]\u001b[0m \u001b[1;33m=\u001b[0m \u001b[0mcv\u001b[0m\u001b[1;33m.\u001b[0m\u001b[0mimread\u001b[0m\u001b[1;33m(\u001b[0m\u001b[0mtgt\u001b[0m\u001b[1;33m+\u001b[0m\u001b[0mpic\u001b[0m\u001b[1;33m,\u001b[0m \u001b[0mcv\u001b[0m\u001b[1;33m.\u001b[0m\u001b[0mIMREAD_GRAYSCALE\u001b[0m\u001b[1;33m)\u001b[0m\u001b[1;33m.\u001b[0m\u001b[0mravel\u001b[0m\u001b[1;33m(\u001b[0m\u001b[1;33m)\u001b[0m\u001b[1;33m\u001b[0m\u001b[0m\n\u001b[0m\u001b[0;32m     17\u001b[0m             \u001b[0mm\u001b[0m \u001b[1;33m+=\u001b[0m\u001b[1;36m1\u001b[0m\u001b[1;33m\u001b[0m\u001b[0m\n\u001b[0;32m     18\u001b[0m     \u001b[1;32mreturn\u001b[0m \u001b[0mtr_data\u001b[0m\u001b[1;33m\u001b[0m\u001b[0m\n",
      "\u001b[1;31mAttributeError\u001b[0m: 'NoneType' object has no attribute 'ravel'"
     ]
    }
   ],
   "source": [
    "asdf = load_training()"
   ]
  },
  {
   "cell_type": "code",
   "execution_count": null,
   "metadata": {
    "collapsed": true
   },
   "outputs": [],
   "source": []
  }
 ],
 "metadata": {
  "kernelspec": {
   "display_name": "Python 2",
   "language": "python",
   "name": "python2"
  },
  "language_info": {
   "codemirror_mode": {
    "name": "ipython",
    "version": 2
   },
   "file_extension": ".py",
   "mimetype": "text/x-python",
   "name": "python",
   "nbconvert_exporter": "python",
   "pygments_lexer": "ipython2",
   "version": "2.7.10"
  }
 },
 "nbformat": 4,
 "nbformat_minor": 0
}
