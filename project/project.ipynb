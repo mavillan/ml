{
 "cells": [
  {
   "cell_type": "markdown",
   "metadata": {
    "collapsed": true
   },
   "source": [
    "# Proyecto de Máquinas de Aprendizaje - ILI393\n",
    "## _Identificación facial cuando existen pocas muestras por clase_"
   ]
  },
  {
   "cell_type": "markdown",
   "metadata": {},
   "source": [
    "## El Problema"
   ]
  },
  {
   "cell_type": "markdown",
   "metadata": {},
   "source": [
    "El problema consiste en la correcta identificación y reconocimiento facial, dado el caso particular en donde existen muy pocas muestras por clase (por persona) para entrenar los algoritmos algoritmos de clasificación. La mayoría de los enfoques usados en este tipo de problemas consisten en encontrar una buena representación de las características importantes de las caras, para posteriormente realizar algún tipo de búsqueda (jerárquica, nearest neighbors, etc). Sin embargo se propone aquí resolver el problema con tres algoritmos de clasificación distintos: Linear Discriminant Analysis, Support Vector Machines (con kernel lineal y radio basal) y por Convolutional Neural Networks.\n",
    "\n",
    "Los dataset a ocupar son [Faces94](http://cswww.essex.ac.uk/mv/allfaces/faces94.html), [Faces95](http://cswww.essex.ac.uk/mv/allfaces/faces95.html) y [Faces96](http://cswww.essex.ac.uk/mv/allfaces/faces96.html). Cada uno de los datasets consiste en 20 imágenes de individuos, y variable cantidad de individuos. Los datasets están ordenados en cuanto a su complejidad de reconocimiento de menor a mayor. Se muestran a continuación imágenes representativas de Faces94, Faces95 y Faces96 respectivamente.\n",
    "\n",
    "<img src=\"faces94ex.jpg\">\n",
    "\n",
    "<img src=\"faces95ex.jpg\">\n",
    "\n",
    "<img src=\"faces96ex.jpg\">\n",
    "\n",
    "Para cada uno de estos datasets, se crearon los 20 training y testing sets correspondientes. La metodología fue la siguiente: Para cada dataset (94,95,96) se tomaron aleatoriamente entre 2-5 fotos por clase (por persona) para formar los training sets correspondientes, y las restantes 15-18 fotos se dejaron para crear los testing sets correspondientes. Vale decir, si se entrena con train94/5pc (faces94, 5 samples per class) entonces se prueba con test94/15pc (faces94, 15 samples per class). Cumpliendo de este modo con la restricción de tener pocos samples para entrenar los algoritmos.\n",
    "**Observación**: Por el momento se trabaja sólo con Faces94 y Faces95.\n",
    "\n",
    "Para la comparación entre los resultados de los distintos algoritmos, se realizan *Error Bars* del error rate sobre los 20 datasets. Para computar las barras de error, se computan según el intervalo de confianza del 95% para la media del error, por medio de la distribución t-student."
   ]
  },
  {
   "cell_type": "markdown",
   "metadata": {},
   "source": [
    "## Enfoque 1: Linear Discriminant Analysis"
   ]
  },
  {
   "cell_type": "markdown",
   "metadata": {},
   "source": [
    "La implementación ocupada corresponde la de Scikit-Learn. Para cada una de las clases (personas) genera la función discriminante lineal $\\delta_k$, que permite diferenciar a cada una de las clases. Los dos supuestos fuertes que se realizan sobre los datasets al ocupar este método, son que 1) La probabilidad multivariada de las características $P(x_m | y=k)$ se distribuye normal, y que 2) La matriz de covarianza para cada una de las clases es igual.\n",
    "\n",
    "Debido a que LDA es un modelo generativo sin _hiperparámetros_, es que no es necesario realizar cross-validation para el modelo. Esto es una gran ventaja, pues ahora gran tiempo de computación (comparado con los otros métodos). Sin embargo, como se verá más adelante, paga este costo de simplicidad, entregando resultados menos precisos y generalizantes."
   ]
  },
  {
   "cell_type": "markdown",
   "metadata": {},
   "source": [
    "### 1) LDA con Faces94"
   ]
  },
  {
   "cell_type": "code",
   "execution_count": 168,
   "metadata": {
    "collapsed": false,
    "scrolled": true
   },
   "outputs": [],
   "source": [
    "err_faces94_3spc = solve_lda('faces94', 3, verbose=False)\n",
    "err_faces94_4spc = solve_lda('faces94', 4, verbose=False)\n",
    "err_faces94_5spc = solve_lda('faces94', 5, verbose=False)\n",
    "err_faces94_6spc = solve_lda('faces94', 6, verbose=False)\n",
    "errors_lda_faces94 = [err_faces94_3spc, err_faces94_4spc, err_faces94_5spc]"
   ]
  },
  {
   "cell_type": "code",
   "execution_count": 86,
   "metadata": {
    "collapsed": false
   },
   "outputs": [
    {
     "data": {
      "image/png": "[encoded data removed]",
      "text/plain": [
       "<matplotlib.figure.Figure at 0x7f34d86df310>"
      ]
     },
     "metadata": {},
     "output_type": "display_data"
    }
   ],
   "source": [
    "plot_errorbars(errors_lda_faces94)"
   ]
  },
  {
   "cell_type": "markdown",
   "metadata": {},
   "source": [
    "**Análisis:**\n",
    "+ De los gráficos, se nota que el dataset Faces94 es muy \"fácil\" y por lo tanto los resultados son casi perfectos. Si se revisan las imagenes en este, puede notarse que las imagenes para una misma persona son todas muy parecidas, es decir, hay poca variación en la pose, expresión, iluminación, etc. Por lo cual esta data es fácilmente separable por hiperplanos.\n",
    "+ De todos modos, a medida que aumentan las muestras por clase, el error rate tiende a disminuir."
   ]
  },
  {
   "cell_type": "markdown",
   "metadata": {},
   "source": [
    "### LDA con Faces95"
   ]
  },
  {
   "cell_type": "code",
   "execution_count": 169,
   "metadata": {
    "collapsed": false
   },
   "outputs": [
    {
     "name": "stderr",
     "output_type": "stream",
     "text": [
      "/home/martin/anaconda2/lib/python2.7/site-packages/sklearn/discriminant_analysis.py:453: UserWarning: The priors do not sum to 1. Renormalizing\n",
      "  UserWarning)\n"
     ]
    }
   ],
   "source": [
    "err_faces95_3spc = solve_lda('faces95', 3, verbose=False)\n",
    "err_faces95_4spc = solve_lda('faces95', 4, verbose=False)\n",
    "err_faces95_5spc = solve_lda('faces95', 5, verbose=False)\n",
    "errors_lda_faces95 = [err_faces95_3spc, err_faces95_4spc, err_faces95_5spc]"
   ]
  },
  {
   "cell_type": "code",
   "execution_count": 170,
   "metadata": {
    "collapsed": false
   },
   "outputs": [
    {
     "data": {
      "image/png": "[encoded data removed]",
      "text/plain": [
       "<matplotlib.figure.Figure at 0x7f6fd5713790>"
      ]
     },
     "metadata": {},
     "output_type": "display_data"
    }
   ],
   "source": [
    "plot_errorbars(errors_lda_faces95)"
   ]
  },
  {
   "cell_type": "markdown",
   "metadata": {},
   "source": [
    "**Análisis:**\n",
    "+ Se nota claramente que el dataset Faces95 es un dataset mucho más complejo que el anterior.\n",
    "+ Los error rates son claramente mayores, siendo estos muy altos para los casos en donde hay pocos ejemplos por clase.\n",
    "+ De todas maneras el comportamiento tiende a mejorar cuando existen más muestras por clase."
   ]
  },
  {
   "cell_type": "markdown",
   "metadata": {},
   "source": [
    "## Enfoque 2: Support Vector Machines"
   ]
  },
  {
   "cell_type": "markdown",
   "metadata": {},
   "source": [
    "### Marco Teórico"
   ]
  },
  {
   "cell_type": "markdown",
   "metadata": {},
   "source": [
    "Support Vector Machines (SVM) es un método de clasificación binario (adaptable a problemas de múltiples clases), que encuentra la frontera de decisión lineal óptima (hiperplano óptimo) que separa a las clases. Intuituvamente, una buena separación es lograda por el hiperplano con mayor distancia o margen a los datos de entramiento más cercanos. Esta superficie de separación es una combinación lineal de elementos del training set, conocidos como vectores de soporte, pues definen la frontera entre dos clases\n",
    "<img src=\"separating_hyperplane.png\" style=\"width: 500px;\">\n",
    "\n",
    "Por lo tanto el método se reduce a el problema de optimización, de encontrar el hiperplano $\\mathbf{w}^T x + b = 0$ que maximice el margen de cada ejemplo en el training set. Esto puede expresarse mas formalmente como:\n",
    "\\begin{align}\n",
    "& \\min_{\\mathbf{w},b} \\frac{1}{2} ||\\mathbf{w}||^2 \\\\\n",
    "& \\text{s.t } \\ y_m(\\mathbf{w}^T x_m + b) \\geq 1, \\ m=1,\\ldots ,M \n",
    "\\end{align}\n",
    "\n",
    "lo cual corresponde a un problema de optimización cuadrático. Es posible relajar algunas reestricciones del problema introduciendo *variables de holgura*\n",
    "\\begin{align}\n",
    "& \\min_ {\\mathbf{w}, b, \\zeta} \\frac{1}{2} ||\\mathbf{w}||^2 + C \\sum_{m=1}^{M} \\zeta_i \\\\\n",
    "& \\text{s.t } \\ y_m (\\mathbf{w}^T \\ x_m + b) \\geq 1 - \\zeta_m,\\\\\n",
    "& \\zeta_m \\geq 0, m=1, ..., M\n",
    "\\end{align}\n",
    "\n",
    "donde el parámetro C controla el trade-off entre el error de clasificación y el tamaño del margen. En general a mayor margen, menor será el error de generalización del clasificador, por lo tanto con las *variables de holgura* se tiene una manera de controlar esta relación.\n",
    "\n",
    "La SVM determinada por el anterior problema de optimización es conocida como la C-SVM. Sin embargo por medio de una re-parametrización de esta, es posible definir un nuevo parámetros $\\nu$ que controla el número de vectores de soporte y el error de entrenamiento. Esta formulación corresponde a la $\\nu$-SVM y puede ser demostrado que ambas formulaciones son matemáticamente equivalentes."
   ]
  },
  {
   "cell_type": "markdown",
   "metadata": {},
   "source": [
    "### Experimentación"
   ]
  },
  {
   "cell_type": "markdown",
   "metadata": {},
   "source": [
    "El enfoque seguido en esta sección, es la implementación y entrenamiento de multiclass SVM's con kernels tanto lineales como gaussianos, para cumplir con el objetivo de clasificar la data. Para ello se ocupan $\\nu$-SMV's, debido a que facilita la configuración del parámetro de holgura $\\nu$. La implementación ocupada corresponde a la de Scikit-Learn, el cual advierte: _“SVC  implement one-against-one” approach (Knerr et al., 1990) for multi- class classification.\"_\n",
    "\n",
    "Para la selección de _hiperparámetros_ $\\nu$ y $\\gamma$ (en kernels rbf) se realiza *stratified cross-validation* sobre cada training set, con la ayuda de grid search. Para que este método tenga sentido, el número de folds debe ser igual al número de muestras por clase (si hay más folds que muestras por clase, no se pueden cumplir las condiciones de estratificación).\n",
    "\n",
    "Debido a que las dimensiones de las imágenes (200x180=36000) corresponden al total de features de cada foto, se ha decidido realizar una reducción de dimensionalidad para mejorar los tiempos de entrenamientos y eficiencia, así como también tomar las características realmente importantes (aquellas que permiten diferencias entre las clases).\n",
    "\n",
    "Como técnica de reducción de dimensionalidad, se ha decidido ocupar LDA como reducción de dimensionalidad supervisada, representación tambien conocida como [_Fisher Faces_](http://www.scholarpedia.org/article/Fisherfaces). Esta técnica\n",
    "intenta encontrar un subespacio donde proyectar la data que permita diferenciar de mejor manera las clases. Dicho de otro modo, se intenta maximizar la **inter-class variance**  y minimizar la varianza **intra-class variance**.\n",
    "\n",
    "Básicamente los hiperplanos que conforman el subespacio de representación, corresponden a la funciones discriminantes que genera el modelo en LDA. La idea se plasma en la siguiente representación\n",
    "\n",
    "<img src=\"lineardisc.jpg\">\n",
    "\n",
    "en donde cada dato se proyecta en los hiperplanos discriminantes, para formar la representación. El número de máximo de discriminantes es $\\min(\\text{dimensiones},\\text{clases}-1)$, por lo tanto en un problema con muchas más dimensiones (features) que clases, la reducción de dimensionalidad es considerablemente favorable (este problema es precisamente el caso). Se pueden ocupar menos discriminantes, pero para los experimentos que se muestran a continuación se ocupan todos."
   ]
  },
  {
   "cell_type": "markdown",
   "metadata": {},
   "source": [
    "### 1) Linear SVM"
   ]
  },
  {
   "cell_type": "markdown",
   "metadata": {},
   "source": [
    "**Observaciones:**\n",
    "+ Los rangos de los parámetros fueron determinados empíricamente, probando aquellos que entregan resultados coherentes y útiles en los datasets respectivos."
   ]
  },
  {
   "cell_type": "code",
   "execution_count": 171,
   "metadata": {
    "collapsed": true
   },
   "outputs": [],
   "source": [
    "#Setting parameters to try on Linear-SVM for Faces94 and Faces95\n",
    "Nu = np.linspace(0.0005, 0.001, 5, endpoint=True)"
   ]
  },
  {
   "cell_type": "markdown",
   "metadata": {},
   "source": [
    "### Linear-SVM con Faces94"
   ]
  },
  {
   "cell_type": "code",
   "execution_count": 172,
   "metadata": {
    "collapsed": false
   },
   "outputs": [],
   "source": [
    "err_faces94_3spc = solve_svm('faces94', 3, 'linear', Nu, verbose=False)\n",
    "err_faces94_4spc = solve_svm('faces94', 4, 'linear', Nu, verbose=False)\n",
    "err_faces94_5spc = solve_svm('faces94', 5, 'linear', Nu, verbose=False)\n",
    "errors_lsvm_faces94 = [err_faces94_3spc, err_faces94_4spc, err_faces94_5spc]"
   ]
  },
  {
   "cell_type": "code",
   "execution_count": 119,
   "metadata": {
    "collapsed": false
   },
   "outputs": [
    {
     "data": {
      "image/png": "[encoded data removed]",
      "text/plain": [
       "<matplotlib.figure.Figure at 0x7f34d82faed0>"
      ]
     },
     "metadata": {},
     "output_type": "display_data"
    }
   ],
   "source": [
    "plot_errorbars(errors_lsvm_faces94)"
   ]
  },
  {
   "cell_type": "markdown",
   "metadata": {},
   "source": [
    "El gráfico a continuación compara los resultados recien obtenidos, con los resultados de los algoritmos anteriores para el dataset Faces94"
   ]
  },
  {
   "cell_type": "markdown",
   "metadata": {},
   "source": [
    "<img src=\"comp1.png\">"
   ]
  },
  {
   "cell_type": "markdown",
   "metadata": {},
   "source": [
    "**Análisis:**\n",
    "+ Sucede lo mismo que con LDA: Faces94 es muy fácil de separar por hiperplanos, y por lo tanto obtiene un buen resultado también con la SVM de kernel lineal.\n",
    "+ Los error rates obtenidos aquí son ligeramente inferiores a los obtenidos con LDA.\n",
    "+ Sigue el patrón de mejorar los resultados a medida que aumentan las muestras por clase."
   ]
  },
  {
   "cell_type": "markdown",
   "metadata": {},
   "source": [
    "### Linear-SVM con Faces95"
   ]
  },
  {
   "cell_type": "code",
   "execution_count": 173,
   "metadata": {
    "collapsed": false,
    "scrolled": true
   },
   "outputs": [],
   "source": [
    "err_faces95_3spc = solve_svm('faces95', 3, 'linear', Nu, verbose=False)\n",
    "err_faces95_4spc = solve_svm('faces95', 4, 'linear', Nu, verbose=False)\n",
    "err_faces95_5spc = solve_svm('faces95', 5, 'linear', Nu, verbose=False)\n",
    "errors_lsvm_faces95 = [err_faces95_3spc, err_faces95_4spc, err_faces95_5spc]"
   ]
  },
  {
   "cell_type": "code",
   "execution_count": 80,
   "metadata": {
    "collapsed": false
   },
   "outputs": [
    {
     "data": {
      "image/png": "[encoded data removed]",
      "text/plain": [
       "<matplotlib.figure.Figure at 0x7f34d867ddd0>"
      ]
     },
     "metadata": {},
     "output_type": "display_data"
    }
   ],
   "source": [
    "plot_errorbars(errors_lsvm_faces95)"
   ]
  },
  {
   "cell_type": "markdown",
   "metadata": {},
   "source": [
    "El gráfico a continuación compara los resultados recien obtenidos, con los resultados de los algoritmos anteriores para el dataset Faces95"
   ]
  },
  {
   "cell_type": "markdown",
   "metadata": {},
   "source": [
    "<img src=\"comp2.png\">"
   ]
  },
  {
   "cell_type": "markdown",
   "metadata": {},
   "source": [
    "**Análisis:**\n",
    "+ Los resultados aquí obtenidos, mejoran en una cantidad notoria respecto a el mismo dataset aplicado con LDA. Sin embargo, no hay que olvidar que aquí se tuvo que realizar un proceso de cross-validation para establecer _hiperparámetros_ y en LDA no.\n",
    "+ La mejor capacidad de generalización obtenida por la SVM, refleja los beneficios de tener variables de holgura, esto es, permitir cometer ciertos errores en el training set, para asi aumentar el margen junto con la capacidad de generalizar en el testing set.\n",
    "+ Se mantiene el patrón de mejorar los resultados a medida que aumentan los ejemplos por clase."
   ]
  },
  {
   "cell_type": "markdown",
   "metadata": {},
   "source": [
    "### 2) Kernel-SVM"
   ]
  },
  {
   "cell_type": "markdown",
   "metadata": {},
   "source": [
    "**Observaciones:**\n",
    "+ Los rangos de los parámetros fueron determinados empíricamente, probando aquellos que entregan resultados coherentes y útiles en los datasets respectivos."
   ]
  },
  {
   "cell_type": "code",
   "execution_count": 65,
   "metadata": {
    "collapsed": true
   },
   "outputs": [],
   "source": [
    "#setting parameters to try one kernel-svm\n",
    "Nu = np.linspace(0.0005, 0.01, 10, endpoint=True)\n",
    "Gamma = np.linspace(0.25, 2.0, 10, endpoint=True)"
   ]
  },
  {
   "cell_type": "markdown",
   "metadata": {
    "collapsed": true
   },
   "source": [
    "### Kernel-SVM con Faces94 "
   ]
  },
  {
   "cell_type": "code",
   "execution_count": null,
   "metadata": {
    "collapsed": false,
    "scrolled": true
   },
   "outputs": [],
   "source": [
    "err_faces94_3spc = solve_svm('faces94', 3, 'rbf', Nu, Gamma, verbose=False)\n",
    "err_faces94_4spc = solve_svm('faces94', 4, 'rbf', Nu, Gamma, verbose=False)\n",
    "err_faces94_5spc = solve_svm('faces94', 5, 'rbf', Nu, Gamma, verbose=False)\n",
    "errors_ksvm_faces94 = [err_faces94_3spc, err_faces94_4spc, err_faces94_5spc]"
   ]
  },
  {
   "cell_type": "code",
   "execution_count": 79,
   "metadata": {
    "collapsed": false
   },
   "outputs": [
    {
     "data": {
      "image/png": "[encoded data removed]",
      "text/plain": [
       "<matplotlib.figure.Figure at 0x7f34d8d3e5d0>"
      ]
     },
     "metadata": {},
     "output_type": "display_data"
    }
   ],
   "source": [
    "plot_errorbars(errors_ksvm_faces94)"
   ]
  },
  {
   "cell_type": "markdown",
   "metadata": {},
   "source": [
    "El gráfico a continuación compara los resultados recien obtenidos, con los resultados de los algoritmos anteriores para el dataset Faces94"
   ]
  },
  {
   "cell_type": "markdown",
   "metadata": {},
   "source": [
    "<img src=\"comp3.png\">"
   ]
  },
  {
   "cell_type": "markdown",
   "metadata": {},
   "source": [
    "**Análisis:**\n",
    "+ Sorprendentemente, los resultados son signigicativamente peores que con los otros dos algoritmos anteriores. Peor aun, el error en vez de disminiur a medida que aumentan las muestras por clase, aumenta.\n",
    "+ La explicación más probable de este fenómeno, es overfitting. Como sabemos, con un kernel gaussiano se da la posibilidad de aprender fronteras de decisión no lineales complejas. Sin embargo sabemos que este dataset es muy bien separable por hiperplanos, por lo tanto el hecho de agregarle complejidad, sólo empeoró la situación.\n",
    "+ Adicionalmente el hecho de que el error aumente con las muestras por clase, es un reflejo de lo descrito anteriormente. Mientras más muestras por clase existe, va a generar un modelo no lineal más y más complejo, lo cual para efectos de este dataset, es algo malo."
   ]
  },
  {
   "cell_type": "markdown",
   "metadata": {},
   "source": [
    "### Kernel-SVM con Faces95"
   ]
  },
  {
   "cell_type": "code",
   "execution_count": 71,
   "metadata": {
    "collapsed": true
   },
   "outputs": [],
   "source": [
    "#setting parameters to try one kernel-svm\n",
    "Nu = np.linspace(0.0005, 0.01, 10, endpoint=True)\n",
    "Gamma = np.linspace(0.25, 2.0, 10, endpoint=True)"
   ]
  },
  {
   "cell_type": "code",
   "execution_count": null,
   "metadata": {
    "collapsed": false,
    "scrolled": true
   },
   "outputs": [],
   "source": [
    "err_faces95_3spc = solve_svm('faces95', 3, 'rbf', Nu, Gamma, verbose=False)\n",
    "err_faces95_4spc = solve_svm('faces95', 4, 'rbf', Nu, Gamma, verbose=False)\n",
    "err_faces95_5spc = solve_svm('faces95', 5, 'rbf', Nu, Gamma, verbose=False)\n",
    "errors_ksvm_faces95 = [err_faces95_3spc, err_faces95_4spc, err_faces95_5spc]"
   ]
  },
  {
   "cell_type": "code",
   "execution_count": 78,
   "metadata": {
    "collapsed": false
   },
   "outputs": [
    {
     "data": {
      "image/png": "[encoded data removed]",
      "text/plain": [
       "<matplotlib.figure.Figure at 0x7f34d8fa1b90>"
      ]
     },
     "metadata": {},
     "output_type": "display_data"
    }
   ],
   "source": [
    "plot_errorbars(errors_ksvm_faces95)"
   ]
  },
  {
   "cell_type": "markdown",
   "metadata": {},
   "source": [
    "El gráfico a continuación compara los resultados recien obtenidos, con los resultados de los algoritmos anteriores para el dataset Faces95"
   ]
  },
  {
   "cell_type": "markdown",
   "metadata": {},
   "source": [
    "<img src=\"comp4.png\">"
   ]
  },
  {
   "cell_type": "markdown",
   "metadata": {},
   "source": [
    "**Análisis:**\n",
    "+ Los resultados no son mejores que los obtenidos con los algoritmos anteriores, pero sin embargo no son tan malos como resulto en Faces94. Esto pues Faces95 es sabido un dataset más complejo, y por lo tanto un modelo de mayor complejidad (que uno lineal) puede ayudar. \n",
    "+ Los resultados podrían mejorar aún más si se realiza las selección de _hiperparámetros_ en una malla más fina, pero esto requeriría de mucho tiempo de computación."
   ]
  },
  {
   "cell_type": "markdown",
   "metadata": {},
   "source": [
    "## Enfoque 3: Convolutional Neural Network"
   ]
  },
  {
   "cell_type": "markdown",
   "metadata": {},
   "source": [
    "## Enfoque 4: Dissimilarity SVM"
   ]
  },
  {
   "cell_type": "markdown",
   "metadata": {},
   "source": [
    "### Marco Teórico"
   ]
  },
  {
   "cell_type": "markdown",
   "metadata": {},
   "source": [
    "#### Representación\n",
    "\n",
    "El problema de *identificación* tratado corresponde a dada una imagen de prueba $\\mathbf{p}$, determinar a qué clase del conjunto de entrenamiento $S_{tr}$ corresponde. Los enfoques basado en SVM anteriores, reducen este problema a $K$-class classification.\n",
    "\n",
    "El propósito del método planteado, es ocupar las capacidades de clasificación de las SVM como clasificador binario, sobre dos conjuntos $C_1$ y $C_2$, donde el primero corresponde al *within-class differences set* que contienen las disimilitudes entre datos de la misma clase, y el segundo es *between-class difference set* y contienen las disimilitudes entre datos de distinta clase. El espacio en el que habitan los elementos de estos conjuntos, es conocido como el *difference space*, y contrasta con el espacio standard de las imágenes conocido como *image space*.\n",
    "\n",
    "Formalizando lo anterior; sea $S_{tr} = \\{\\mathbf{s}_1 , \\ldots, \\mathbf{s}_M \\}$ el conjunto de entrenamiento con imágenes faciales de $K$ individuos. Para indicar que dos individuos pertenecen a la misma clase ocuparemos $\\mathbf{s}_i \\sim \\mathbf{s}_j$, y en caso contrario $\\mathbf{s}_i \\nsim \\mathbf{s}_j$. Se define adicionalmente la función de similitud $\\phi : R^N \\times R^N \\rightarrow R^S$ con $S \\leq N$, como aquella función que mapea dos images, hacia el *difference space*. Luego es posible definir\n",
    "\\begin{align}\n",
    "& C_1 = \\{\\phi(\\mathbf{s}_i, \\mathbf{s}_j)\\  | \\ \\mathbf{s}_i \\sim \\mathbf{s}_j \\} \\\\\n",
    "& C_2 = \\{\\phi(\\mathbf{s}_i, \\mathbf{s}_j)\\  | \\ \\mathbf{s}_i \\nsim \\mathbf{s}_j \\}\n",
    "\\end{align}\n",
    "\n",
    "#### Entrenamiento\n",
    "\n",
    "Para el entrenamiento de la D-SVM (Dissimilarity SVM) los conjuntos de entrada son $C_1$ y $C_2$, es decir, se realiza un simple entrenamiento para clasificación binaria, lo cual es bastante conveniente.\n",
    "\n",
    "Adicionalmente, sabemos que el output de una SVM es un conjunto de $M_s$ vectores de soporte $\\mathbf{v}_m$, coeficientes $\\alpha_m$, etiquetas de las clases $y_m$ de los vectores de soporte y el término $b$ constante. Luego la superficie de decisión puede ser escrita como\n",
    "$$\n",
    "f(\\mathbf{x}) = \\sum_m^{M_s} \\alpha_m y_m K(\\mathbf{v}_m, \\mathbf{x}) + b = 0\n",
    "$$\n",
    "\n",
    "donde $K(\\cdot,\\cdot)$ es una función de kernel de acuerdo al Mercer's Theorem. Para $f(\\mathbf{x}_i)<0$, mientras más grande sea el valor de $|f(\\mathbf{x_i})|$, más es el grado (o probabilidad) de pertenencia de $\\mathbf{x}_i$ a la primera clase (de modo análogo se concluye para la segunda clase). Por lo tanto se puede ocupar la función $f$ como discriminante, o como score de pertenencia a una clase."
   ]
  },
  {
   "cell_type": "code",
   "execution_count": 103,
   "metadata": {
    "collapsed": true
   },
   "outputs": [],
   "source": [
    "#setting parameters to try one kernel-svm\n",
    "#N = np.array([4,8,12,16,20])\n",
    "#Nu = np.linspace(0.1, 0.5, 5, endpoint=True)\n",
    "#Gamma = np.linspace(0.25, 2.0, 5, endpoint=True)"
   ]
  },
  {
   "cell_type": "code",
   "execution_count": 155,
   "metadata": {
    "collapsed": false
   },
   "outputs": [
    {
     "name": "stdout",
     "output_type": "stream",
     "text": [
      "#####################################################################################\n",
      "faces94: 3 samples per class (dataset 0)\n",
      "Error rate: 0.0046439628483\n",
      "#####################################################################################\n",
      "faces94: 3 samples per class (dataset 1)\n",
      "Error rate: 0.0046439628483\n",
      "#####################################################################################\n",
      "faces94: 3 samples per class (dataset 2)\n",
      "Error rate: 0.00348297213622\n",
      "#####################################################################################\n",
      "faces94: 3 samples per class (dataset 3)\n",
      "Error rate: 0.00541795665635\n",
      "#####################################################################################\n",
      "faces94: 3 samples per class (dataset 4)\n",
      "Error rate: 0.0061919504644\n",
      "#####################################################################################\n",
      "faces94: 3 samples per class (dataset 5)\n",
      "Error rate: 0.0108359133127\n",
      "#####################################################################################\n",
      "faces94: 3 samples per class (dataset 6)\n",
      "Error rate: 0.00270897832817\n",
      "#####################################################################################\n",
      "faces94: 3 samples per class (dataset 7)\n",
      "Error rate: 0.00580495356037\n",
      "#####################################################################################\n",
      "faces94: 3 samples per class (dataset 8)\n",
      "Error rate: 0.00657894736842\n",
      "#####################################################################################\n",
      "faces94: 3 samples per class (dataset 9)\n",
      "Error rate: 0.00696594427245\n",
      "#####################################################################################\n",
      "faces94: 3 samples per class (dataset 10)\n",
      "Error rate: 0.00425696594427\n",
      "#####################################################################################\n",
      "faces94: 3 samples per class (dataset 11)\n",
      "Error rate: 0.00348297213622\n",
      "#####################################################################################\n",
      "faces94: 3 samples per class (dataset 12)\n",
      "Error rate: 0.0127708978328\n",
      "#####################################################################################\n",
      "faces94: 3 samples per class (dataset 13)\n",
      "Error rate: 0.00232198142415\n",
      "#####################################################################################\n",
      "faces94: 3 samples per class (dataset 14)\n",
      "Error rate: 0.00386996904025\n",
      "#####################################################################################\n",
      "faces94: 3 samples per class (dataset 15)\n",
      "Error rate: 0.00812693498452\n",
      "#####################################################################################\n",
      "faces94: 3 samples per class (dataset 16)\n",
      "Error rate: 0.0046439628483\n",
      "#####################################################################################\n",
      "faces94: 3 samples per class (dataset 17)\n",
      "Error rate: 0.00657894736842\n",
      "#####################################################################################\n",
      "faces94: 3 samples per class (dataset 18)\n",
      "Error rate: 0.00541795665635\n",
      "#####################################################################################\n",
      "faces94: 3 samples per class (dataset 19)\n",
      "Error rate: 0.00541795665635\n"
     ]
    }
   ],
   "source": [
    "err_faces94_3spc = solve_dsvm('faces94', 3, verbose=True)"
   ]
  },
  {
   "cell_type": "code",
   "execution_count": 157,
   "metadata": {
    "collapsed": false
   },
   "outputs": [
    {
     "name": "stdout",
     "output_type": "stream",
     "text": [
      "#####################################################################################\n",
      "faces94: 4 samples per class (dataset 0)\n",
      "Error rate: 0.00411184210526\n",
      "#####################################################################################\n",
      "faces94: 4 samples per class (dataset 1)\n",
      "Error rate: 0.00246710526316\n",
      "#####################################################################################\n",
      "faces94: 4 samples per class (dataset 2)\n",
      "Error rate: 0.00699013157895\n",
      "#####################################################################################\n",
      "faces94: 4 samples per class (dataset 3)\n",
      "Error rate: 0.00534539473684\n",
      "#####################################################################################\n",
      "faces94: 4 samples per class (dataset 4)\n",
      "Error rate: 0.00452302631579\n",
      "#####################################################################################\n",
      "faces94: 4 samples per class (dataset 5)\n",
      "Error rate: 0.00452302631579\n",
      "#####################################################################################\n",
      "faces94: 4 samples per class (dataset 6)\n",
      "Error rate: 0.00452302631579\n",
      "#####################################################################################\n",
      "faces94: 4 samples per class (dataset 7)\n",
      "Error rate: 0.00699013157895\n",
      "#####################################################################################\n",
      "faces94: 4 samples per class (dataset 8)\n",
      "Error rate: 0.00616776315789\n",
      "#####################################################################################\n",
      "faces94: 4 samples per class (dataset 9)\n",
      "Error rate: 0.00452302631579\n",
      "#####################################################################################\n",
      "faces94: 4 samples per class (dataset 10)\n",
      "Error rate: 0.00328947368421\n",
      "#####################################################################################\n",
      "faces94: 4 samples per class (dataset 11)\n",
      "Error rate: 0.00740131578947\n",
      "#####################################################################################\n",
      "faces94: 4 samples per class (dataset 12)\n",
      "Error rate: 0.00328947368421\n",
      "#####################################################################################\n",
      "faces94: 4 samples per class (dataset 13)\n",
      "Error rate: 0.00534539473684\n",
      "#####################################################################################\n",
      "faces94: 4 samples per class (dataset 14)\n",
      "Error rate: 0.00328947368421\n",
      "#####################################################################################\n",
      "faces94: 4 samples per class (dataset 15)\n",
      "Error rate: 0.00246710526316\n",
      "#####################################################################################\n",
      "faces94: 4 samples per class (dataset 16)\n",
      "Error rate: 0.00328947368421\n",
      "#####################################################################################\n",
      "faces94: 4 samples per class (dataset 17)\n",
      "Error rate: 0.00246710526316\n",
      "#####################################################################################\n",
      "faces94: 4 samples per class (dataset 18)\n",
      "Error rate: 0.00370065789474\n",
      "#####################################################################################\n",
      "faces94: 4 samples per class (dataset 19)\n",
      "Error rate: 0.00411184210526\n"
     ]
    }
   ],
   "source": [
    "err_faces94_4spc = solve_dsvm('faces94', 4, verbose=True)"
   ]
  },
  {
   "cell_type": "code",
   "execution_count": 158,
   "metadata": {
    "collapsed": false
   },
   "outputs": [
    {
     "name": "stdout",
     "output_type": "stream",
     "text": [
      "#####################################################################################\n",
      "faces94: 5 samples per class (dataset 0)\n",
      "Error rate: 0.00263157894737\n",
      "#####################################################################################\n",
      "faces94: 5 samples per class (dataset 1)\n",
      "Error rate: 0.00263157894737\n",
      "#####################################################################################\n",
      "faces94: 5 samples per class (dataset 2)\n",
      "Error rate: 0.00219298245614\n",
      "#####################################################################################\n",
      "faces94: 5 samples per class (dataset 3)\n",
      "Error rate: 0.00175438596491\n",
      "#####################################################################################\n",
      "faces94: 5 samples per class (dataset 4)\n",
      "Error rate: 0.00175438596491\n",
      "#####################################################################################\n",
      "faces94: 5 samples per class (dataset 5)\n",
      "Error rate: 0.00526315789474\n",
      "#####################################################################################\n",
      "faces94: 5 samples per class (dataset 6)\n",
      "Error rate: 0.00438596491228\n",
      "#####################################################################################\n",
      "faces94: 5 samples per class (dataset 7)\n",
      "Error rate: 0.0030701754386\n",
      "#####################################################################################\n",
      "faces94: 5 samples per class (dataset 8)\n",
      "Error rate: 0.00701754385965\n",
      "#####################################################################################\n",
      "faces94: 5 samples per class (dataset 9)\n",
      "Error rate: 0.00175438596491\n",
      "#####################################################################################\n",
      "faces94: 5 samples per class (dataset 10)\n",
      "Error rate: 0.00657894736842\n",
      "#####################################################################################\n",
      "faces94: 5 samples per class (dataset 11)\n",
      "Error rate: 0.00438596491228\n",
      "#####################################################################################\n",
      "faces94: 5 samples per class (dataset 12)\n",
      "Error rate: 0.00131578947368\n",
      "#####################################################################################\n",
      "faces94: 5 samples per class (dataset 13)\n",
      "Error rate: 0.00263157894737\n",
      "#####################################################################################\n",
      "faces94: 5 samples per class (dataset 14)\n",
      "Error rate: 0.00482456140351\n",
      "#####################################################################################\n",
      "faces94: 5 samples per class (dataset 15)\n",
      "Error rate: 0.00350877192982\n",
      "#####################################################################################\n",
      "faces94: 5 samples per class (dataset 16)\n",
      "Error rate: 0.000877192982456\n",
      "#####################################################################################\n",
      "faces94: 5 samples per class (dataset 17)\n",
      "Error rate: 0.00350877192982\n",
      "#####################################################################################\n",
      "faces94: 5 samples per class (dataset 18)\n",
      "Error rate: 0.00131578947368\n",
      "#####################################################################################\n",
      "faces94: 5 samples per class (dataset 19)\n",
      "Error rate: 0.0030701754386\n"
     ]
    }
   ],
   "source": [
    "err_faces94_5spc = solve_dsvm('faces94', 5, verbose=True)"
   ]
  },
  {
   "cell_type": "code",
   "execution_count": 159,
   "metadata": {
    "collapsed": false
   },
   "outputs": [
    {
     "name": "stdout",
     "output_type": "stream",
     "text": [
      "#####################################################################################\n",
      "faces95: 3 samples per class (dataset 0)\n",
      "Error rate: 0.172385620915\n",
      "#####################################################################################\n",
      "faces95: 3 samples per class (dataset 1)\n",
      "Error rate: 0.21160130719\n",
      "#####################################################################################\n",
      "faces95: 3 samples per class (dataset 2)\n",
      "Error rate: 0.186274509804\n",
      "#####################################################################################\n",
      "faces95: 3 samples per class (dataset 3)\n",
      "Error rate: 0.21977124183\n",
      "#####################################################################################\n",
      "faces95: 3 samples per class (dataset 4)\n",
      "Error rate: 0.213235294118\n",
      "#####################################################################################\n",
      "faces95: 3 samples per class (dataset 5)\n",
      "Error rate: 0.148692810458\n",
      "#####################################################################################\n",
      "faces95: 3 samples per class (dataset 6)\n",
      "Error rate: 0.18954248366\n",
      "#####################################################################################\n",
      "faces95: 3 samples per class (dataset 7)\n",
      "Error rate: 0.229575163399\n",
      "#####################################################################################\n",
      "faces95: 3 samples per class (dataset 8)\n",
      "Error rate: 0.162581699346\n",
      "#####################################################################################\n",
      "faces95: 3 samples per class (dataset 9)\n",
      "Error rate: 0.173202614379\n",
      "#####################################################################################\n",
      "faces95: 3 samples per class (dataset 10)\n",
      "Error rate: 0.179738562092\n",
      "#####################################################################################\n",
      "faces95: 3 samples per class (dataset 11)\n",
      "Error rate: 0.186274509804\n",
      "#####################################################################################\n",
      "faces95: 3 samples per class (dataset 12)\n",
      "Error rate: 0.200163398693\n",
      "#####################################################################################\n",
      "faces95: 3 samples per class (dataset 13)\n",
      "Error rate: 0.235294117647\n",
      "#####################################################################################\n",
      "faces95: 3 samples per class (dataset 14)\n",
      "Error rate: 0.217320261438\n",
      "#####################################################################################\n",
      "faces95: 3 samples per class (dataset 15)\n",
      "Error rate: 0.191993464052\n",
      "#####################################################################################\n",
      "faces95: 3 samples per class (dataset 16)\n",
      "Error rate: 0.199346405229\n",
      "#####################################################################################\n",
      "faces95: 3 samples per class (dataset 17)\n",
      "Error rate: 0.174019607843\n",
      "#####################################################################################\n",
      "faces95: 3 samples per class (dataset 18)\n",
      "Error rate: 0.244281045752\n",
      "#####################################################################################\n",
      "faces95: 3 samples per class (dataset 19)\n",
      "Error rate: 0.175653594771\n"
     ]
    }
   ],
   "source": [
    "err_faces95_3spc = solve_dsvm('faces95', 3, verbose=True)"
   ]
  },
  {
   "cell_type": "code",
   "execution_count": 161,
   "metadata": {
    "collapsed": false
   },
   "outputs": [
    {
     "name": "stdout",
     "output_type": "stream",
     "text": [
      "#####################################################################################\n",
      "faces95: 4 samples per class (dataset 0)\n",
      "Error rate: 0.151041666667\n",
      "#####################################################################################\n",
      "faces95: 4 samples per class (dataset 1)\n",
      "Error rate: 0.196180555556\n",
      "#####################################################################################\n",
      "faces95: 4 samples per class (dataset 2)\n",
      "Error rate: 0.145833333333\n",
      "#####################################################################################\n",
      "faces95: 4 samples per class (dataset 3)\n",
      "Error rate: 0.227430555556\n",
      "#####################################################################################\n",
      "faces95: 4 samples per class (dataset 4)\n",
      "Error rate: 0.184895833333\n",
      "#####################################################################################\n",
      "faces95: 4 samples per class (dataset 5)\n",
      "Error rate: 0.181423611111\n",
      "#####################################################################################\n",
      "faces95: 4 samples per class (dataset 6)\n",
      "Error rate: 0.200520833333\n",
      "#####################################################################################\n",
      "faces95: 4 samples per class (dataset 7)\n",
      "Error rate: 0.217013888889\n",
      "#####################################################################################\n",
      "faces95: 4 samples per class (dataset 8)\n",
      "Error rate: 0.190972222222\n",
      "#####################################################################################\n",
      "faces95: 4 samples per class (dataset 9)\n",
      "Error rate: 0.243923611111\n",
      "#####################################################################################\n",
      "faces95: 4 samples per class (dataset 10)\n",
      "Error rate: 0.157118055556\n",
      "#####################################################################################\n",
      "faces95: 4 samples per class (dataset 11)\n",
      "Error rate: 0.213541666667\n",
      "#####################################################################################\n",
      "faces95: 4 samples per class (dataset 12)\n",
      "Error rate: 0.217881944444\n",
      "#####################################################################################\n",
      "faces95: 4 samples per class (dataset 13)\n",
      "Error rate: 0.185763888889\n",
      "#####################################################################################\n",
      "faces95: 4 samples per class (dataset 14)\n",
      "Error rate: 0.203993055556\n",
      "#####################################################################################\n",
      "faces95: 4 samples per class (dataset 15)\n",
      "Error rate: 0.199652777778\n",
      "#####################################################################################\n",
      "faces95: 4 samples per class (dataset 16)\n",
      "Error rate: 0.178819444444\n",
      "#####################################################################################\n",
      "faces95: 4 samples per class (dataset 17)\n",
      "Error rate: 0.239583333333\n",
      "#####################################################################################\n",
      "faces95: 4 samples per class (dataset 18)\n",
      "Error rate: 0.196180555556\n",
      "#####################################################################################\n",
      "faces95: 4 samples per class (dataset 19)\n",
      "Error rate: 0.180555555556\n"
     ]
    }
   ],
   "source": [
    "err_faces95_4spc = solve_dsvm('faces95', 4, verbose=True)"
   ]
  },
  {
   "cell_type": "code",
   "execution_count": 162,
   "metadata": {
    "collapsed": false
   },
   "outputs": [
    {
     "name": "stdout",
     "output_type": "stream",
     "text": [
      "#####################################################################################\n",
      "faces95: 5 samples per class (dataset 0)\n",
      "Error rate: 0.15462962963\n",
      "#####################################################################################\n",
      "faces95: 5 samples per class (dataset 1)\n",
      "Error rate: 0.139814814815\n",
      "#####################################################################################\n",
      "faces95: 5 samples per class (dataset 2)\n",
      "Error rate: 0.137962962963\n",
      "#####################################################################################\n",
      "faces95: 5 samples per class (dataset 3)\n",
      "Error rate: 0.150925925926\n",
      "#####################################################################################\n",
      "faces95: 5 samples per class (dataset 4)\n",
      "Error rate: 0.12962962963\n",
      "#####################################################################################\n",
      "faces95: 5 samples per class (dataset 5)\n",
      "Error rate: 0.126851851852\n",
      "#####################################################################################\n",
      "faces95: 5 samples per class (dataset 6)\n",
      "Error rate: 0.144444444444\n",
      "#####################################################################################\n",
      "faces95: 5 samples per class (dataset 7)\n",
      "Error rate: 0.125925925926\n",
      "#####################################################################################\n",
      "faces95: 5 samples per class (dataset 8)\n",
      "Error rate: 0.144444444444\n",
      "#####################################################################################\n",
      "faces95: 5 samples per class (dataset 9)\n",
      "Error rate: 0.137962962963\n",
      "#####################################################################################\n",
      "faces95: 5 samples per class (dataset 10)\n",
      "Error rate: 0.152777777778\n",
      "#####################################################################################\n",
      "faces95: 5 samples per class (dataset 11)\n",
      "Error rate: 0.140740740741\n",
      "#####################################################################################\n",
      "faces95: 5 samples per class (dataset 12)\n",
      "Error rate: 0.150925925926\n",
      "#####################################################################################\n",
      "faces95: 5 samples per class (dataset 13)\n",
      "Error rate: 0.138888888889\n",
      "#####################################################################################\n",
      "faces95: 5 samples per class (dataset 14)\n",
      "Error rate: 0.139814814815\n",
      "#####################################################################################\n",
      "faces95: 5 samples per class (dataset 15)\n",
      "Error rate: 0.138888888889\n",
      "#####################################################################################\n",
      "faces95: 5 samples per class (dataset 16)\n",
      "Error rate: 0.143518518519\n",
      "#####################################################################################\n",
      "faces95: 5 samples per class (dataset 17)\n",
      "Error rate: 0.155555555556\n",
      "#####################################################################################\n",
      "faces95: 5 samples per class (dataset 18)\n",
      "Error rate: 0.141666666667\n",
      "#####################################################################################\n",
      "faces95: 5 samples per class (dataset 19)\n",
      "Error rate: 0.12962962963\n"
     ]
    }
   ],
   "source": [
    "err_faces95_5spc = solve_dsvm('faces95', 5, verbose=True)"
   ]
  },
  {
   "cell_type": "code",
   "execution_count": 163,
   "metadata": {
    "collapsed": true
   },
   "outputs": [],
   "source": [
    "errors_dsvm_faces94 = [err_faces94_3spc, err_faces94_4spc, err_faces94_5spc]"
   ]
  },
  {
   "cell_type": "code",
   "execution_count": 165,
   "metadata": {
    "collapsed": false
   },
   "outputs": [
    {
     "data": {
      "image/png": "[encoded data removed]",
      "text/plain": [
       "<matplotlib.figure.Figure at 0x7f6fe0180990>"
      ]
     },
     "metadata": {},
     "output_type": "display_data"
    }
   ],
   "source": [
    "plot_errorbars(errors_dsvm_faces94)"
   ]
  },
  {
   "cell_type": "code",
   "execution_count": 166,
   "metadata": {
    "collapsed": true
   },
   "outputs": [],
   "source": [
    "errors_dsvm_faces95 = [err_faces95_3spc, err_faces95_4spc, err_faces95_5spc]"
   ]
  },
  {
   "cell_type": "code",
   "execution_count": 167,
   "metadata": {
    "collapsed": false
   },
   "outputs": [
    {
     "data": {
      "image/png": "[encoded data removed]",
      "text/plain": [
       "<matplotlib.figure.Figure at 0x7f6fd57cc2d0>"
      ]
     },
     "metadata": {},
     "output_type": "display_data"
    }
   ],
   "source": [
    "plot_errorbars(errors_dsvm_faces95)"
   ]
  },
  {
   "cell_type": "markdown",
   "metadata": {},
   "source": [
    "## Anexo de Código"
   ]
  },
  {
   "cell_type": "markdown",
   "metadata": {},
   "source": [
    "### Configuración del notebook"
   ]
  },
  {
   "cell_type": "code",
   "execution_count": 1,
   "metadata": {
    "collapsed": false
   },
   "outputs": [],
   "source": [
    "%matplotlib inline\n",
    "import os\n",
    "import time\n",
    "import numpy as np\n",
    "import scipy as sp\n",
    "import matplotlib.pyplot as plt\n",
    "\n",
    "import cv2 as cv\n",
    "from sklearn import svm, grid_search\n",
    "from sklearn.cross_validation import StratifiedKFold\n",
    "from sklearn.metrics import confusion_matrix\n",
    "from sklearn.discriminant_analysis import LinearDiscriminantAnalysis as LDA\n",
    "from sklearn.base import BaseEstimator, ClassifierMixin\n",
    "\n",
    "#libraries for convolutional neural network\n",
    "import theano.tensor as T\n",
    "import theano\n",
    "import lasagne\n",
    "from lasagne import layers\n",
    "from lasagne.updates import nesterov_momentum\n",
    "\n",
    "#libraries for proposed approach\n",
    "import histogram #own library\n",
    "from sklearn.metrics.pairwise import chi2_kernel\n",
    "from skimage.feature import local_binary_pattern as lbp"
   ]
  },
  {
   "cell_type": "markdown",
   "metadata": {},
   "source": [
    "### Helper functions"
   ]
  },
  {
   "cell_type": "code",
   "execution_count": 100,
   "metadata": {
    "collapsed": true
   },
   "outputs": [],
   "source": [
    "\"\"\"\n",
    "> function to load data from path directory to a matrix.\n",
    "> each row of the resulting matrix, corresponds to a flattened image\n",
    "  in grayscale format\n",
    "\"\"\"\n",
    "def load_data(path, stacked=False):\n",
    "    #total number of classes\n",
    "    M = len(os.listdir(path))\n",
    "    #dimensions of each image\n",
    "    N = 200*180\n",
    "    #samples per class\n",
    "    spc = int(path.strip().split('-')[1][:-2])\n",
    "    #matrix with features\n",
    "    if stacked:\n",
    "        data = np.empty((M*spc,1,200,180), dtype=np.float32)\n",
    "    else: \n",
    "        data = np.empty((M*spc,N), dtype=np.float32)\n",
    "    labels = np.empty(M*spc, dtype=np.uint8)\n",
    "    #index of data matrix\n",
    "    m = 0\n",
    "    for i in xrange(1,M+1):\n",
    "        tgt = path+str(i)+'/'\n",
    "        pics = os.listdir(tgt)\n",
    "        for pic in pics:\n",
    "            if stacked:\n",
    "                #store each image, as a bidimensional array in data matrix\n",
    "                data[m,0,:,:] = cv.imread(tgt+pic, cv.IMREAD_GRAYSCALE)\n",
    "            else:\n",
    "                #store each flattened image, as a row in data matrix\n",
    "                data[m,:] = cv.imread(tgt+pic, cv.IMREAD_GRAYSCALE).ravel()\n",
    "            labels[m] = i\n",
    "            m += 1\n",
    "    return (data, labels)\n",
    "\n",
    "def plot_confusion_matrix(cm, title='Confusion matrix', cmap=plt.cm.Blues):\n",
    "    plt.figure(figsize=(15,8))\n",
    "    plt.imshow(cm, interpolation='nearest', cmap=cmap)\n",
    "    plt.title(title)\n",
    "    plt.colorbar()\n",
    "    plt.tight_layout()\n",
    "    plt.ylabel('True label')\n",
    "    plt.xlabel('Predicted label')\n",
    "    plt.show()\n",
    "    \n",
    "def mean_confidence_interval(data, confidence=0.95):\n",
    "    n = data.shape[0]\n",
    "    #mean and standard error of mean\n",
    "    mu, sem = np.mean(data), sp.stats.sem(data)\n",
    "    #computing confidence interval\n",
    "    h = sem * sp.stats.t.ppf((1+confidence)/2., n-1)\n",
    "    return mu, mu-h, mu+h\n",
    "\n",
    "def plot_errorbars(errors):\n",
    "    mean = []\n",
    "    lower = []\n",
    "    upper = []\n",
    "    for error in errors:\n",
    "        mu,l,u = mean_confidence_interval(error)\n",
    "        mean.append(mu)\n",
    "        lower.append(l)\n",
    "        upper.append(u)\n",
    "    x = np.arange(3, len(errors)+3)\n",
    "    mean = np.array(mean)\n",
    "    lower = np.array(lower)\n",
    "    upper = np.array(upper)\n",
    "    labels = ['3spc','4spc','5spc']\n",
    "    plt.figure(figsize=(12,6))\n",
    "    plt.xlim([2,6])\n",
    "    plt.xticks(x, labels)\n",
    "    plt.errorbar(x, mean, yerr=[lower,upper],fmt='o')\n",
    "    plt.xlabel('Samples per class')\n",
    "    plt.ylabel('Mean error rate')\n",
    "    plt.title('Error bars with different samples per class')\n",
    "    plt.show()\n",
    "    \n",
    "\n",
    "def plot_comparative_errorbars(errors):\n",
    "    pass\n",
    "    \n",
    "\"\"\"\n",
    "This is just a simple helper function iterating over training data in\n",
    "mini-batches of a particular size, optionally in random order. It assumes\n",
    "data is available as numpy arrays. For big datasets, you could load numpy\n",
    "arrays as memory-mapped files (np.load(..., mmap_mode='r')), or write your\n",
    "own custom data iteration function. For small datasets, you can also copy\n",
    "them to GPU at once for slightly improved performance. This would involve\n",
    "several changes in the main program, though, and is not demonstrated here.\n",
    "\"\"\"\n",
    "\n",
    "def iterate_minibatches(inputs, targets, batchsize, shuffle=False):\n",
    "    assert inputs.shape[0] == targets.shape[0]\n",
    "    M = inputs.shape[0]\n",
    "    num_batches = M/batchsize\n",
    "    if shuffle:\n",
    "        indices = np.arange(M)\n",
    "        np.random.shuffle(indices)\n",
    "    for batch_idx in xrange(num_batches):\n",
    "        start_idx = batch_idx*batchsize\n",
    "        if batch_idx==num_batches-1: end_idx = M\n",
    "        else: end_idx = start_idx+batchsize\n",
    "        if shuffle: \n",
    "            excerpt = indices[start_idx:end_idx]\n",
    "        else:\n",
    "            excerpt = slice(start_idx, end_idx)\n",
    "        yield inputs[excerpt], targets[excerpt]"
   ]
  },
  {
   "cell_type": "markdown",
   "metadata": {},
   "source": [
    "### Funciones de error"
   ]
  },
  {
   "cell_type": "code",
   "execution_count": 3,
   "metadata": {
    "collapsed": true
   },
   "outputs": [],
   "source": [
    "def precision(y_ts, y_pd):\n",
    "    #true positives\n",
    "    tp = (y_ts==y_pd).sum()\n",
    "    #total of predictions\n",
    "    n = y_ts.shape[0]\n",
    "    return tp/np.float(n)\n",
    "\n",
    "def error_rate(y_ts, y_pd):\n",
    "    return 1-precision(y_ts, y_pd)"
   ]
  },
  {
   "cell_type": "markdown",
   "metadata": {},
   "source": [
    "### Funciones para LDA"
   ]
  },
  {
   "cell_type": "code",
   "execution_count": 4,
   "metadata": {
    "collapsed": false,
    "scrolled": true
   },
   "outputs": [],
   "source": [
    "def solve_lda(dataset, spc, verbose=False):\n",
    "    #samples per class on training set\n",
    "    spc_tr = spc\n",
    "    spc_ts = 20-spc_tr\n",
    "    #training and testing paths\n",
    "    tr_path = './db/train'+dataset[-2:]+'/tr-{0}pc-{1}/'\n",
    "    ts_path = './db/test'+dataset[-2:]+'/ts-{0}pc-{1}/'\n",
    "    #errors through all datasets\n",
    "    err = list()\n",
    "    #iterating through datasets\n",
    "    for set_num in xrange(20):\n",
    "        #loading training and testing set\n",
    "        X_tr,y_tr = load_data(tr_path.format(spc_tr,set_num))\n",
    "        X_ts,y_ts = load_data(ts_path.format(spc_ts,set_num))\n",
    "        #creating LDA object and fitting the testing data\n",
    "        clf = LDA()\n",
    "        clf.fit(X_tr, y_tr)\n",
    "        #making predictions\n",
    "        y_pd = clf.predict(X_ts)\n",
    "        #computing error rate\n",
    "        err.append(error_rate(y_ts,y_pd))\n",
    "        if verbose:\n",
    "            print \"#####################################################################################\"\n",
    "            print \"{0}: {1} samples per class (dataset {2})\".format(dataset, spc, set_num)\n",
    "            print \"Error rate: {0}\".format(err[-1])\n",
    "        #releasing memory of big objects\n",
    "        del X_tr, X_ts, clf\n",
    "    return np.array(err)"
   ]
  },
  {
   "cell_type": "markdown",
   "metadata": {},
   "source": [
    "### Funciones para SVM"
   ]
  },
  {
   "cell_type": "code",
   "execution_count": 5,
   "metadata": {
    "collapsed": false
   },
   "outputs": [],
   "source": [
    "\"\"\"\n",
    "Supervised dimensionality reduction through LDA\n",
    "\"\"\"\n",
    "def fisher_faces(X, y):\n",
    "    #supervised learning through LDA\n",
    "    #finding the discriminant functions\n",
    "    ff = LDA()\n",
    "    ff.fit(X,y)\n",
    "    #proyect the data into linear discriminant hyperplanes\n",
    "    return ff\n",
    "\n",
    "\"\"\"\n",
    "Stratified 5-fold cross validation y Grid search\n",
    "para determinar el mejor parametro C en linear svm\n",
    "\"\"\"\n",
    "def cross_linear_svm(X, y, Nu, n_folds=None):\n",
    "    #generating stratified 5-fold cross validation iterator\n",
    "    strat_kf = StratifiedKFold(y, n_folds=n_folds, shuffle=True)\n",
    "    #parameters to try\n",
    "    params = {'nu':Nu}\n",
    "    #Setting grid search for linear-svm\n",
    "    clf = svm.NuSVC(kernel='linear')\n",
    "    gs = grid_search.GridSearchCV(clf, params, cv=strat_kf, n_jobs=2)\n",
    "    #make it\n",
    "    gs.fit(X, y)\n",
    "    #return best parameters and grid scores\n",
    "    return gs.best_params_['nu'] , gs.grid_scores_\n",
    "\n",
    "\n",
    "\"\"\"\n",
    "Stratified 5-fold cross validation y Grid search\n",
    "para determinar el mejor parametro Nu y Gamma en rbf svm\n",
    "\"\"\"\n",
    "def cross_rbf_svm(X, y, Nu, Gamma, n_folds=None):\n",
    "    #generating stratified 5-fold cross validation iterator\n",
    "    strat_kf = StratifiedKFold(y, n_folds=n_folds, shuffle=True)\n",
    "    #parameters to try\n",
    "    params = {'nu':Nu, 'gamma':Gamma}\n",
    "    #Setting grid search for rbf-svm\n",
    "    clf = svm.NuSVC(kernel='rbf')\n",
    "    gs = grid_search.GridSearchCV(clf, params, cv=strat_kf, n_jobs=2)\n",
    "    #make it\n",
    "    gs.fit(X, y)\n",
    "    #return best parameters and grid scores\n",
    "    return gs.best_params_['nu'], gs.best_params_['gamma'] , gs.grid_scores_\n",
    "\n",
    "\n",
    "def solve_svm(dataset, spc, kernel, Nu, Gamma=None, verbose=False):\n",
    "    #samples per class on training set\n",
    "    spc_tr = spc\n",
    "    spc_ts = 20-spc_tr\n",
    "    #training and testing paths\n",
    "    tr_path = './db/train'+dataset[-2:]+'/tr-{0}pc-{1}/'\n",
    "    ts_path = './db/test'+dataset[-2:]+'/ts-{0}pc-{1}/'\n",
    "    #errors through all datasets\n",
    "    err = list()\n",
    "    #iterating through datasets\n",
    "    for set_num in xrange(20):\n",
    "        #loading training and testing sets\n",
    "        X_tr,y_tr = load_data(tr_path.format(spc_tr,set_num))\n",
    "        X_ts,y_ts = load_data(ts_path.format(spc_ts,set_num))\n",
    "        #projecting into discriminant space\n",
    "        ff = fisher_faces(X_tr, y_tr)\n",
    "        X_tr = ff.transform(X_tr)\n",
    "        X_ts = ff.transform(X_ts)\n",
    "        #choosing best nu (and gamma) through stratified\n",
    "        #5-fold cross-validation and grid search\n",
    "        if kernel=='linear':\n",
    "            nu,grid_scores = cross_linear_svm(X_tr, y_tr, Nu, n_folds=spc)\n",
    "        elif kernel=='rbf':\n",
    "            nu,gamma,grid_scores = cross_rbf_svm(X_tr, y_tr, Nu, Gamma, n_folds=spc)\n",
    "        #fitting the model\n",
    "        if kernel=='linear':\n",
    "            clf = svm.NuSVC(kernel='linear', nu=nu)\n",
    "        elif kernel=='rbf':\n",
    "            clf = svm.NuSVC(kernel='rbf', nu=nu, gamma=gamma)    \n",
    "        clf.fit(X_tr,y_tr)\n",
    "        #making predictions\n",
    "        y_pd = clf.predict(X_ts)\n",
    "        #computing error rate\n",
    "        err.append(error_rate(y_ts,y_pd))\n",
    "        if verbose:\n",
    "            print \"#####################################################################################\"\n",
    "            print \"{0}: {1} samples per class (dataset {2})\".format(dataset, spc, set_num)\n",
    "            print \"Error rate: {0}\".format(err[-1])\n",
    "            print \"Best Nu: {0}\".format(nu)\n",
    "            if kernel=='rbf':\n",
    "                print \"Best gamma: {0}\".format(gamma)\n",
    "        #releasing memory of big objects\n",
    "        del X_tr, X_ts, clf\n",
    "    return np.array(err)"
   ]
  },
  {
   "cell_type": "markdown",
   "metadata": {},
   "source": [
    "### Funciones para Dissimilarity SVM"
   ]
  },
  {
   "cell_type": "code",
   "execution_count": 146,
   "metadata": {
    "collapsed": false
   },
   "outputs": [],
   "source": [
    "#chi2 distance metric\n",
    "def chi2(h0, h1, tol=1e-10):\n",
    "    if h1.ndim==1:\n",
    "        return np.sum((h0-h1)**2./((h0+h1)+tol))\n",
    "    elif h1.ndim==2:\n",
    "        return np.sum((h0-h1)**2./((h0+h1)+tol),axis=1)\n",
    "\n",
    "class dSVM(BaseEstimator, ClassifierMixin):\n",
    "    def __init__(self, P=8, R=2, N=8, OverlapX=2, OverlapY=2, nu=0.1, gamma=0.5):\n",
    "        self.P = P #number of neighbors to compute LBP\n",
    "        self.R = R #radius to compute LBP\n",
    "        self.N = N #Number of partitions on x-axis and y-axis (spatial histogram)\n",
    "        self.Npatterns = 59 #number of bins of each histogram (not settable)\n",
    "        self.OverlapX = OverlapX #allowed overlap between regions on x-axis\n",
    "        self.OverlapY = OverlapY #allowed overlap between regions on y-axis\n",
    "        self.nu = nu #nu parameter for Nu-SVM\n",
    "        self.gamma = gamma #gamma parameter for kernel on SVM\n",
    "    \"\"\"\n",
    "    Transform data on X matrix (flattened) to \n",
    "    spatial histograms representation on Y matrix\n",
    "    \"\"\"\n",
    "    def to_spatial_histogram(self, X):\n",
    "        M,N = X.shape\n",
    "        #return matrix\n",
    "        Y = np.empty((M,self.Npatterns*self.N**2))\n",
    "        for m in xrange(M):\n",
    "            img = X[m].reshape((-1,180))\n",
    "            lbp_img = lbp(img, self.P, self.R, method='nri_uniform')\n",
    "            lbp_img = lbp_img.astype(np.uint8)\n",
    "            sp_hist = histogram.spatial(lbp_img, self.N, self.N,\n",
    "                      self.Npatterns, self.OverlapX, self.OverlapY)\n",
    "            Y[m] = sp_hist\n",
    "        return Y\n",
    "\n",
    "    #compute frecuency difference\n",
    "    #def dissimilarity1(h0, h1):\n",
    "    #    return np.abs(h0-h1)\n",
    "\n",
    "    \"\"\"\n",
    "    > computes dissimilarity between h0 and h1\n",
    "    > h1 could be a 2D array. In that case\n",
    "      dissimilarities are computed between h0 and\n",
    "      each row in h1\n",
    "    \"\"\"\n",
    "    def dissimilarity(self, h0, h1):\n",
    "        if h1.ndim==1:\n",
    "            N = h0.shape[0]\n",
    "            #number of histograms (dimensions on difference space)\n",
    "            S = N/59\n",
    "            diff = np.empty(S)\n",
    "            s = 0 #index of diff\n",
    "            for j in xrange(0,N,59):\n",
    "                diff[s] = chi2(h0[j:j+59],h1[j:j+59])\n",
    "                s += 1\n",
    "            return diff\n",
    "        elif h1.ndim==2:\n",
    "            M,N = h1.shape\n",
    "            #number of histograms (dimensions on difference space)\n",
    "            S = N/59\n",
    "            diff = np.empty((M,S))\n",
    "            s = 0 #column index of diff\n",
    "            for j in xrange(0,N,59):\n",
    "                diff[:,s] = chi2(h0[j:j+59],h1[:,j:j+59])\n",
    "                s += 1\n",
    "            return diff\n",
    "\n",
    "    def build_classes(self, hist_matrix, spc):\n",
    "        #dimensions of input matrix\n",
    "        M,N = hist_matrix.shape\n",
    "        #indexes of hist_matrix\n",
    "        indexes = np.arange(M)\n",
    "        np.random.shuffle(indexes)\n",
    "        #dimensions of output matrices\n",
    "        P = int(sp.misc.comb(spc,2))*152\n",
    "        Q = self.N**2\n",
    "        \"\"\"\n",
    "        > building the within class difference set C1\n",
    "        > all combinations between samples of the same\n",
    "          class are computed\n",
    "        \"\"\"\n",
    "        C1 = np.empty((P,Q))\n",
    "        p = 0 #index of C1\n",
    "        for m in xrange(0, M, spc):\n",
    "            for i in xrange(m, m+spc):\n",
    "                for j in xrange(i+1, m+spc):\n",
    "                    #difference space representation\n",
    "                    C1[p] = self.dissimilarity(hist_matrix[i], hist_matrix[j])\n",
    "                    p += 1\n",
    "        \"\"\"\n",
    "        > building the between class difference set\n",
    "        > randomly selecting two samples of different classes\n",
    "        \"\"\"\n",
    "        C2 = np.empty((P,Q))\n",
    "        p = 0 #index of C2\n",
    "        while p < P:\n",
    "            i,j = np.random.choice(indexes, 2)\n",
    "            #indexes must be of different classes\n",
    "            if y[i]==y[j]: continue\n",
    "            C2[p] = self.dissimilarity(hist_matrix[i],hist_matrix[j])\n",
    "            p += 1\n",
    "        #return both classes\n",
    "        return (C1,C2)\n",
    "\n",
    "    def fit(self, X, y):\n",
    "        #counting samples per class\n",
    "        frec = np.bincount(y-1)\n",
    "        spc = frec[0]\n",
    "        #if any class has different frec\n",
    "        if not np.all(spc==frec): return -1\n",
    "        \n",
    "        #X data to spatial histogram format\n",
    "        hist_matrix = self.to_spatial_histogram(X)\n",
    "        \n",
    "        #building classes\n",
    "        C1,C2 = self.build_classes(hist_matrix,spc)\n",
    "        data = np.concatenate((C1,C2), axis=0)\n",
    "        #label arrays\n",
    "        lab1 = np.ones(C1.shape[0],dtype=int)\n",
    "        lab2 = 2*lab1\n",
    "        labels = np.concatenate((lab1,lab2))\n",
    "        \n",
    "        #building svm with stratified cross validation\n",
    "        strat_kf = StratifiedKFold(labels, n_folds=5, shuffle=True)\n",
    "        #parameters to try\n",
    "        Nu = np.linspace(0.1, 0.5, 5, endpoint=True)\n",
    "        Gamma = np.linspace(0.25, 1.5, 5, endpoint=True)\n",
    "        params = {'nu':Nu, 'gamma':Gamma}\n",
    "        #grid search\n",
    "        clf = svm.NuSVC(kernel='rbf')\n",
    "        gs = grid_search.GridSearchCV(clf, params, cv=strat_kf, n_jobs=2)\n",
    "        gs.fit(data,labels)\n",
    "        #fitting with best parameters\n",
    "        dsvm = svm.NuSVC(kernel='rbf', nu=gs.best_params_['nu'], gamma=gs.best_params_['gamma'])\n",
    "        dsvm.fit(data,labels)\n",
    "        \n",
    "        #storing important things to make predictions\n",
    "        self.spc = spc\n",
    "        self.data = hist_matrix\n",
    "        self.dsvm = dsvm\n",
    "        return self\n",
    "\n",
    "    def predict(self, X):\n",
    "        #X data to spatial histogram format\n",
    "        X = self.to_spatial_histogram(X)\n",
    "        M = X.shape[0]\n",
    "        predictions = np.empty(M, dtype=np.uint8)\n",
    "        for m in range(M):\n",
    "            diff = self.dissimilarity(X[m],self.data)\n",
    "            df = self.dsvm.decision_function(diff)\n",
    "            N = df.shape[0]\n",
    "            min_val = np.inf\n",
    "            min_ind = 0\n",
    "            for i in xrange(0,N,self.spc):\n",
    "                mean_score = np.sum(df[i:i+self.spc])/self.spc\n",
    "                if mean_score < min_val:\n",
    "                    min_val = mean_score\n",
    "                    min_ind = i/self.spc\n",
    "            predictions[m] = min_ind\n",
    "        #shift to match the labels\n",
    "        predictions += 1\n",
    "        return predictions\n",
    "    \n",
    "    def score(self, X, y):\n",
    "        y_pd = self.predict(X)\n",
    "        return precision(y, y_pd)"
   ]
  },
  {
   "cell_type": "code",
   "execution_count": 118,
   "metadata": {
    "collapsed": true
   },
   "outputs": [],
   "source": [
    "\"\"\"\n",
    "Stratified 5-fold cross validation y Grid search\n",
    "para determinar el mejor parametro Nu y Gamma en rbf svm\n",
    "\"\"\"\n",
    "def cross_dsvm(X, y, N, Nu, Gamma, n_folds):\n",
    "    #generating stratified 5-fold cross validation iterator\n",
    "    strat_kf = StratifiedKFold(y, n_folds=n_folds, shuffle=True)\n",
    "    #parameters to try\n",
    "    params = {'N':N, 'nu':Nu, 'gamma':Gamma}\n",
    "    #Setting grid search for rbf-svm\n",
    "    clf = dSVM()\n",
    "    gs = grid_search.GridSearchCV(clf, params, cv=strat_kf, n_jobs=2)\n",
    "    #make it\n",
    "    gs.fit(X, y)\n",
    "    #return best parameters and grid scores\n",
    "    return gs.best_params_['N'], gs.best_params_['nu'], gs.best_params_['gamma'], gs.grid_scores_\n",
    "    \n",
    "\n",
    "def solve_dsvm(dataset, spc, verbose=False):\n",
    "    #samples per class on training and testing set\n",
    "    spc_tr = spc\n",
    "    spc_ts = 20-spc_tr\n",
    "    #training and testing paths\n",
    "    tr_path = './db/train'+dataset[-2:]+'/tr-{0}pc-{1}/'\n",
    "    ts_path = './db/test'+dataset[-2:]+'/ts-{0}pc-{1}/'\n",
    "    #errors through all datasets\n",
    "    err = list()\n",
    "    #iterating through datasets\n",
    "    for set_num in xrange(20):\n",
    "        #loading training and testing sets\n",
    "        X_tr,y_tr = load_data(tr_path.format(spc_tr,set_num))\n",
    "        X_ts,y_ts = load_data(ts_path.format(spc_ts,set_num))\n",
    "        #choosing best nu (and gamma) through stratified\n",
    "        #5-fold cross-validation and grid search\n",
    "        #n,nu,gamma = cross_dsvm(X_tr, y_tr, N, Nu, Gamma, n_folds=spc)\n",
    "        #fitting the model with this parameters\n",
    "        clf = dSVM()    \n",
    "        clf.fit(X_tr,y_tr)\n",
    "        #making predictions\n",
    "        y_pd = clf.predict(X_ts)\n",
    "        #computing error rate\n",
    "        err.append(error_rate(y_ts,y_pd))\n",
    "        if verbose:\n",
    "            print \"#####################################################################################\"\n",
    "            print \"{0}: {1} samples per class (dataset {2})\".format(dataset, spc, set_num)\n",
    "            print \"Error rate: {0}\".format(err[-1])\n",
    "        #releasing memory of big objects\n",
    "        del X_tr, X_ts, clf\n",
    "    return np.array(err)"
   ]
  },
  {
   "cell_type": "code",
   "execution_count": 147,
   "metadata": {
    "collapsed": false
   },
   "outputs": [],
   "source": [
    "X_tr, y_tr = load_data('./db/train94/tr-3pc-0/')\n",
    "X_ts, y_ts = load_data('./db/test94/ts-17pc-0/')"
   ]
  },
  {
   "cell_type": "code",
   "execution_count": 148,
   "metadata": {
    "collapsed": true
   },
   "outputs": [],
   "source": [
    "clf = dSVM()"
   ]
  },
  {
   "cell_type": "code",
   "execution_count": 149,
   "metadata": {
    "collapsed": false
   },
   "outputs": [
    {
     "data": {
      "text/plain": [
       "dSVM(N=8, OverlapX=2, OverlapY=2, P=8, R=2, gamma=0.5, nu=0.1)"
      ]
     },
     "execution_count": 149,
     "metadata": {},
     "output_type": "execute_result"
    }
   ],
   "source": [
    "clf.fit(X_tr, y_tr)"
   ]
  },
  {
   "cell_type": "code",
   "execution_count": 153,
   "metadata": {
    "collapsed": false
   },
   "outputs": [],
   "source": [
    "y_pd = clf.predict(X_ts)"
   ]
  },
  {
   "cell_type": "code",
   "execution_count": 151,
   "metadata": {
    "collapsed": false
   },
   "outputs": [
    {
     "data": {
      "text/plain": [
       "array([  1,   1,   1,   2,   2,   2,   3,   3,   3,   4,   4,   4,   5,\n",
       "         5,   5,   6,   6,   6,   7,   7,   7,   8,   8,   8,   9,   9,\n",
       "         9,  10,  10,  10,  11,  11,  11,  12,  12,  12,  13,  13,  13,\n",
       "        14,  14,  14,  15,  15,  15,  16,  16,  16,  17,  17,  17,  18,\n",
       "        18,  18,  19,  19,  19,  20,  20,  20,  21,  21,  21,  22,  22,\n",
       "        22,  23,  23,  23,  24,  24,  24,  25,  25,  25,  26,  26,  26,\n",
       "        27,  27,  27,  28,  28,  28,  29,  29,  29,  30,  30,  30,  31,\n",
       "        31,  31,  32,  32,  32,  33,  33,  33,  34,  34,  34,  35,  35,\n",
       "        35,  36,  36,  36,  37,  37,  37,  38,  38,  38,  39,  39,  39,\n",
       "        40,  40,  40,  41,  41,  41,  42,  42,  42,  43,  43,  43,  44,\n",
       "        44,  44,  45,  45,  45,  46,  46,  46,  47,  47,  47,  48,  48,\n",
       "        48,  49,  49,  49,  50,  50,  50,  51,  51,  51,  52,  52,  52,\n",
       "        53,  53,  53,  54,  54,  54,  55,  55,  55,  56,  56,  56,  57,\n",
       "        57,  57,  58,  58,  58,  59,  59,  59,  60,  60,  60,  61,  61,\n",
       "        61,  62,  62,  62,  63,  63,  63,  64,  64,  64,  65,  65,  65,\n",
       "        66,  66,  66,  67,  67,  67,  68,  68,  68,  69,  69,  69,  70,\n",
       "        70,  70,  71,  71,  71,  72,  72,  72,  73,  73,  73,  74,  74,\n",
       "        74,  75,  75,  75,  76,  76,  76,  77,  77,  77,  78,  78,  78,\n",
       "        79,  79,  79,  80,  80,  80,  81,  81,  81,  82,  82,  82,  83,\n",
       "        83,  83,  84,  84,  84,  85,  85,  85,  86,  86,  86,  87,  87,\n",
       "        87,  88,  88,  88,  89,  89,  89,  90,  90,  90,  91,  91,  91,\n",
       "        92,  92,  92,  93,  93,  93,  94,  94,  94,  95,  95,  95,  96,\n",
       "        96,  96,  97,  97,  97,  98,  98,  98,  99,  99,  99, 100, 100,\n",
       "       100, 101, 101, 101, 102, 102, 102, 103, 103, 103, 104, 104, 104,\n",
       "       105, 105, 105, 106, 106, 106, 107, 107, 107, 108, 108, 108, 109,\n",
       "       109, 109, 110, 110, 110, 111, 111, 111, 112, 112, 112, 113, 113,\n",
       "       113, 114, 114, 114, 115, 115, 115, 116, 116, 116, 117, 117, 117,\n",
       "       118, 118, 118, 119, 119, 119, 120, 120, 120, 121, 121, 121, 122,\n",
       "       122, 122, 123, 123, 123, 124, 124, 124, 125, 125, 125, 126, 126,\n",
       "       126, 127, 127, 127, 128, 128, 128, 129, 129, 129, 130, 130, 130,\n",
       "       131, 131, 131, 132, 132, 132, 133, 133, 133, 134, 134, 134, 135,\n",
       "       135, 135, 136, 136, 136, 137, 137, 137, 138, 138, 138, 139, 139,\n",
       "       139, 140, 140, 140, 141, 141, 141, 142, 142, 142, 143, 143, 143,\n",
       "       144, 144, 144, 145, 145, 145, 146, 146, 146, 147, 147, 147, 148,\n",
       "       148, 148, 149, 149, 149, 150, 150, 150, 151, 151, 151, 152, 152, 152], dtype=uint8)"
      ]
     },
     "execution_count": 151,
     "metadata": {},
     "output_type": "execute_result"
    }
   ],
   "source": [
    "y_pd"
   ]
  },
  {
   "cell_type": "code",
   "execution_count": 154,
   "metadata": {
    "collapsed": false
   },
   "outputs": [
    {
     "data": {
      "text/plain": [
       "0.0046439628482972672"
      ]
     },
     "execution_count": 154,
     "metadata": {},
     "output_type": "execute_result"
    }
   ],
   "source": [
    "error_rate(y_pd, y_ts)"
   ]
  },
  {
   "cell_type": "code",
   "execution_count": 177,
   "metadata": {
    "collapsed": false
   },
   "outputs": [
    {
     "data": {
      "image/png": "[encoded data removed]",
      "text/plain": [
       "<matplotlib.figure.Figure at 0x7f6fd5517d50>"
      ]
     },
     "metadata": {},
     "output_type": "display_data"
    }
   ],
   "source": [
    "#to do: build a function for this\n",
    "mean1 = []; mean2 = []; mean3 = []\n",
    "lower1 = []; lower2 = []; lower3 = []\n",
    "upper1 = []; upper2 = []; upper3 = []\n",
    "for error in errors_lda_faces95:\n",
    "    mu,l,u = mean_confidence_interval(error)\n",
    "    mean1.append(mu)\n",
    "    lower1.append(l)\n",
    "    upper1.append(u)\n",
    "for error in errors_lsvm_faces95:\n",
    "    mu,l,u = mean_confidence_interval(error)\n",
    "    mean2.append(mu)\n",
    "    lower2.append(l)\n",
    "    upper2.append(u)\n",
    "for error in errors_dsvm_faces95:\n",
    "    mu,l,u = mean_confidence_interval(error)\n",
    "    mean3.append(mu)\n",
    "    lower3.append(l)\n",
    "    upper3.append(u)\n",
    "mean1 = np.array(mean1); mean2 = np.array(mean2); mean3 = np.array(mean3)\n",
    "lower1 = np.array(lower1); lower2 = np.array(lower2); lower3 = np.array(lower3)\n",
    "upper1 = np.array(upper1); upper2 = np.array(upper2); upper3 = np.array(upper3)\n",
    "x1 = np.array([2,5,8])\n",
    "x2 = np.array([3,6,9])\n",
    "x3 = np.array([4,7,10])\n",
    "plt.figure(figsize=(12,6))\n",
    "plt.xlim([1,11])\n",
    "labels = ['3spc','3spc','3spc','4spc','4spc','4spc','5spc','5spc','5spc']\n",
    "plt.errorbar(x1, mean1, yerr=[lower1,upper1], fmt='o', label='LDA')\n",
    "plt.errorbar(x2, mean2, yerr=[lower2,upper2],fmt='o', label='Linear Nu-SVM')\n",
    "plt.errorbar(x3, mean3, yerr=[lower3,upper3],fmt='o', label='Dissimilarity SVM')\n",
    "plt.xticks([2,3,4,5,6,7,8,9,10],labels)\n",
    "plt.xlabel('Samples per class')\n",
    "plt.ylabel('Mean error rate')\n",
    "plt.title('Error bars with different samples per class: Faces95')\n",
    "plt.legend(bbox_to_anchor=(1.25, 1.0))\n",
    "plt.show()"
   ]
  },
  {
   "cell_type": "code",
   "execution_count": null,
   "metadata": {
    "collapsed": true
   },
   "outputs": [],
   "source": []
  }
 ],
 "metadata": {
  "kernelspec": {
   "display_name": "Python 2",
   "language": "python",
   "name": "python2"
  },
  "language_info": {
   "codemirror_mode": {
    "name": "ipython",
    "version": 2
   },
   "file_extension": ".py",
   "mimetype": "text/x-python",
   "name": "python",
   "nbconvert_exporter": "python",
   "pygments_lexer": "ipython2",
   "version": "2.7.11"
  }
 },
 "nbformat": 4,
 "nbformat_minor": 0
}
